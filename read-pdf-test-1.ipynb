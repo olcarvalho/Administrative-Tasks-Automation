{
 "cells": [
  {
   "cell_type": "code",
   "execution_count": null,
   "metadata": {},
   "outputs": [],
   "source": [
    "# Read content from PDF files"
   ]
  },
  {
   "cell_type": "code",
   "execution_count": 15,
   "metadata": {},
   "outputs": [],
   "source": [
    "import PyPDF2"
   ]
  },
  {
   "cell_type": "code",
   "execution_count": 17,
   "metadata": {},
   "outputs": [
    {
     "name": "stdout",
     "output_type": "stream",
     "text": [
      "24\n",
      "[File(name=Image7.jpg, data: 2.7 kB, hash: -3721914432777918736), File(name=Image31.png, data: 13.6 kB, hash: -2276004520354538695)]\n"
     ]
    }
   ],
   "source": [
    "\n",
    "\n",
    "with open('Stockholm.pdf', 'rb') as pdfFileObj:\n",
    "   pdfReader = PyPDF2.PdfReader(pdfFileObj)\n",
    "   print(len(pdfReader.pages))\n",
    "   pageObj = pdfReader.pages[1]\n",
    "   # print(pageObj.extract_text())\n",
    "\n",
    "   print(pageObj.images)\n"
   ]
  }
 ],
 "metadata": {
  "kernelspec": {
   "display_name": "dash",
   "language": "python",
   "name": "python3"
  },
  "language_info": {
   "codemirror_mode": {
    "name": "ipython",
    "version": 3
   },
   "file_extension": ".py",
   "mimetype": "text/x-python",
   "name": "python",
   "nbconvert_exporter": "python",
   "pygments_lexer": "ipython3",
   "version": "3.11.4"
  },
  "orig_nbformat": 4
 },
 "nbformat": 4,
 "nbformat_minor": 2
}
