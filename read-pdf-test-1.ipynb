{
 "cells": [
  {
   "cell_type": "code",
   "execution_count": null,
   "metadata": {},
   "outputs": [],
   "source": [
    "# Read content from PDF files"
   ]
  },
  {
   "cell_type": "code",
   "execution_count": 1,
   "metadata": {},
   "outputs": [],
   "source": [
    "import PyPDF2"
   ]
  },
  {
   "cell_type": "code",
   "execution_count": 17,
   "metadata": {},
   "outputs": [
    {
     "name": "stdout",
     "output_type": "stream",
     "text": [
      "24\n",
      "[File(name=Image7.jpg, data: 2.7 kB, hash: -3721914432777918736), File(name=Image31.png, data: 13.6 kB, hash: -2276004520354538695)]\n"
     ]
    }
   ],
   "source": [
    "\n",
    "\n",
    "with open('Stockholm.pdf', 'rb') as pdfFileObj:\n",
    "   pdfReader = PyPDF2.PdfReader(pdfFileObj)\n",
    "   print(len(pdfReader.pages))\n",
    "   pageObj = pdfReader.pages[1]\n",
    "   # print(pageObj.extract_text())\n",
    "\n",
    "   print(pageObj.images)\n"
   ]
  },
  {
   "cell_type": "code",
   "execution_count": 8,
   "metadata": {},
   "outputs": [
    {
     "name": "stdout",
     "output_type": "stream",
     "text": [
      "True\n"
     ]
    }
   ],
   "source": [
    "\n",
    "filename = '2023-07-Extrato-American-Bradesco.pdf'\n",
    "\n",
    "pdfFileObj = open(filename, 'rb')\n",
    "pdfReader = PyPDF2.PdfReader(pdfFileObj)\n",
    "print(pdfReader.is_encrypted)\n",
    "\n",
    "   # print(len(pdfReader.pages))\n",
    "   # pageObj = pdfReader.pages[0]\n",
    "   # print(pageObj.extract_text())\n"
   ]
  },
  {
   "cell_type": "code",
   "execution_count": 9,
   "metadata": {},
   "outputs": [
    {
     "data": {
      "text/plain": [
       "<PasswordType.OWNER_PASSWORD: 2>"
      ]
     },
     "execution_count": 9,
     "metadata": {},
     "output_type": "execute_result"
    }
   ],
   "source": [
    "pdfReader.decrypt('LaylaLaylaLayla')"
   ]
  },
  {
   "cell_type": "code",
   "execution_count": 12,
   "metadata": {},
   "outputs": [
    {
     "ename": "DependencyError",
     "evalue": "PyCryptodome is required for AES algorithm",
     "output_type": "error",
     "traceback": [
      "\u001b[1;31m---------------------------------------------------------------------------\u001b[0m",
      "\u001b[1;31mDependencyError\u001b[0m                           Traceback (most recent call last)",
      "File \u001b[1;32mc:\\Users\\oscar\\anaconda3\\envs\\dash\\Lib\\site-packages\\IPython\\core\\formatters.py:708\u001b[0m, in \u001b[0;36mPlainTextFormatter.__call__\u001b[1;34m(self, obj)\u001b[0m\n\u001b[0;32m    701\u001b[0m stream \u001b[39m=\u001b[39m StringIO()\n\u001b[0;32m    702\u001b[0m printer \u001b[39m=\u001b[39m pretty\u001b[39m.\u001b[39mRepresentationPrinter(stream, \u001b[39mself\u001b[39m\u001b[39m.\u001b[39mverbose,\n\u001b[0;32m    703\u001b[0m     \u001b[39mself\u001b[39m\u001b[39m.\u001b[39mmax_width, \u001b[39mself\u001b[39m\u001b[39m.\u001b[39mnewline,\n\u001b[0;32m    704\u001b[0m     max_seq_length\u001b[39m=\u001b[39m\u001b[39mself\u001b[39m\u001b[39m.\u001b[39mmax_seq_length,\n\u001b[0;32m    705\u001b[0m     singleton_pprinters\u001b[39m=\u001b[39m\u001b[39mself\u001b[39m\u001b[39m.\u001b[39msingleton_printers,\n\u001b[0;32m    706\u001b[0m     type_pprinters\u001b[39m=\u001b[39m\u001b[39mself\u001b[39m\u001b[39m.\u001b[39mtype_printers,\n\u001b[0;32m    707\u001b[0m     deferred_pprinters\u001b[39m=\u001b[39m\u001b[39mself\u001b[39m\u001b[39m.\u001b[39mdeferred_printers)\n\u001b[1;32m--> 708\u001b[0m printer\u001b[39m.\u001b[39;49mpretty(obj)\n\u001b[0;32m    709\u001b[0m printer\u001b[39m.\u001b[39mflush()\n\u001b[0;32m    710\u001b[0m \u001b[39mreturn\u001b[39;00m stream\u001b[39m.\u001b[39mgetvalue()\n",
      "File \u001b[1;32mc:\\Users\\oscar\\anaconda3\\envs\\dash\\Lib\\site-packages\\IPython\\lib\\pretty.py:393\u001b[0m, in \u001b[0;36mRepresentationPrinter.pretty\u001b[1;34m(self, obj)\u001b[0m\n\u001b[0;32m    390\u001b[0m \u001b[39mfor\u001b[39;00m \u001b[39mcls\u001b[39m \u001b[39min\u001b[39;00m _get_mro(obj_class):\n\u001b[0;32m    391\u001b[0m     \u001b[39mif\u001b[39;00m \u001b[39mcls\u001b[39m \u001b[39min\u001b[39;00m \u001b[39mself\u001b[39m\u001b[39m.\u001b[39mtype_pprinters:\n\u001b[0;32m    392\u001b[0m         \u001b[39m# printer registered in self.type_pprinters\u001b[39;00m\n\u001b[1;32m--> 393\u001b[0m         \u001b[39mreturn\u001b[39;00m \u001b[39mself\u001b[39;49m\u001b[39m.\u001b[39;49mtype_pprinters[\u001b[39mcls\u001b[39;49m](obj, \u001b[39mself\u001b[39;49m, cycle)\n\u001b[0;32m    394\u001b[0m     \u001b[39melse\u001b[39;00m:\n\u001b[0;32m    395\u001b[0m         \u001b[39m# deferred printer\u001b[39;00m\n\u001b[0;32m    396\u001b[0m         printer \u001b[39m=\u001b[39m \u001b[39mself\u001b[39m\u001b[39m.\u001b[39m_in_deferred_types(\u001b[39mcls\u001b[39m)\n",
      "File \u001b[1;32mc:\\Users\\oscar\\anaconda3\\envs\\dash\\Lib\\site-packages\\IPython\\lib\\pretty.py:692\u001b[0m, in \u001b[0;36m_dict_pprinter_factory.<locals>.inner\u001b[1;34m(obj, p, cycle)\u001b[0m\n\u001b[0;32m    690\u001b[0m     p\u001b[39m.\u001b[39mpretty(key)\n\u001b[0;32m    691\u001b[0m     p\u001b[39m.\u001b[39mtext(\u001b[39m'\u001b[39m\u001b[39m: \u001b[39m\u001b[39m'\u001b[39m)\n\u001b[1;32m--> 692\u001b[0m     p\u001b[39m.\u001b[39;49mpretty(obj[key])\n\u001b[0;32m    693\u001b[0m p\u001b[39m.\u001b[39mend_group(step, end)\n",
      "File \u001b[1;32mc:\\Users\\oscar\\anaconda3\\envs\\dash\\Lib\\site-packages\\IPython\\lib\\pretty.py:393\u001b[0m, in \u001b[0;36mRepresentationPrinter.pretty\u001b[1;34m(self, obj)\u001b[0m\n\u001b[0;32m    390\u001b[0m \u001b[39mfor\u001b[39;00m \u001b[39mcls\u001b[39m \u001b[39min\u001b[39;00m _get_mro(obj_class):\n\u001b[0;32m    391\u001b[0m     \u001b[39mif\u001b[39;00m \u001b[39mcls\u001b[39m \u001b[39min\u001b[39;00m \u001b[39mself\u001b[39m\u001b[39m.\u001b[39mtype_pprinters:\n\u001b[0;32m    392\u001b[0m         \u001b[39m# printer registered in self.type_pprinters\u001b[39;00m\n\u001b[1;32m--> 393\u001b[0m         \u001b[39mreturn\u001b[39;00m \u001b[39mself\u001b[39;49m\u001b[39m.\u001b[39;49mtype_pprinters[\u001b[39mcls\u001b[39;49m](obj, \u001b[39mself\u001b[39;49m, cycle)\n\u001b[0;32m    394\u001b[0m     \u001b[39melse\u001b[39;00m:\n\u001b[0;32m    395\u001b[0m         \u001b[39m# deferred printer\u001b[39;00m\n\u001b[0;32m    396\u001b[0m         printer \u001b[39m=\u001b[39m \u001b[39mself\u001b[39m\u001b[39m.\u001b[39m_in_deferred_types(\u001b[39mcls\u001b[39m)\n",
      "File \u001b[1;32mc:\\Users\\oscar\\anaconda3\\envs\\dash\\Lib\\site-packages\\IPython\\lib\\pretty.py:692\u001b[0m, in \u001b[0;36m_dict_pprinter_factory.<locals>.inner\u001b[1;34m(obj, p, cycle)\u001b[0m\n\u001b[0;32m    690\u001b[0m     p\u001b[39m.\u001b[39mpretty(key)\n\u001b[0;32m    691\u001b[0m     p\u001b[39m.\u001b[39mtext(\u001b[39m'\u001b[39m\u001b[39m: \u001b[39m\u001b[39m'\u001b[39m)\n\u001b[1;32m--> 692\u001b[0m     p\u001b[39m.\u001b[39;49mpretty(obj[key])\n\u001b[0;32m    693\u001b[0m p\u001b[39m.\u001b[39mend_group(step, end)\n",
      "File \u001b[1;32mc:\\Users\\oscar\\anaconda3\\envs\\dash\\Lib\\site-packages\\IPython\\lib\\pretty.py:393\u001b[0m, in \u001b[0;36mRepresentationPrinter.pretty\u001b[1;34m(self, obj)\u001b[0m\n\u001b[0;32m    390\u001b[0m \u001b[39mfor\u001b[39;00m \u001b[39mcls\u001b[39m \u001b[39min\u001b[39;00m _get_mro(obj_class):\n\u001b[0;32m    391\u001b[0m     \u001b[39mif\u001b[39;00m \u001b[39mcls\u001b[39m \u001b[39min\u001b[39;00m \u001b[39mself\u001b[39m\u001b[39m.\u001b[39mtype_pprinters:\n\u001b[0;32m    392\u001b[0m         \u001b[39m# printer registered in self.type_pprinters\u001b[39;00m\n\u001b[1;32m--> 393\u001b[0m         \u001b[39mreturn\u001b[39;00m \u001b[39mself\u001b[39;49m\u001b[39m.\u001b[39;49mtype_pprinters[\u001b[39mcls\u001b[39;49m](obj, \u001b[39mself\u001b[39;49m, cycle)\n\u001b[0;32m    394\u001b[0m     \u001b[39melse\u001b[39;00m:\n\u001b[0;32m    395\u001b[0m         \u001b[39m# deferred printer\u001b[39;00m\n\u001b[0;32m    396\u001b[0m         printer \u001b[39m=\u001b[39m \u001b[39mself\u001b[39m\u001b[39m.\u001b[39m_in_deferred_types(\u001b[39mcls\u001b[39m)\n",
      "File \u001b[1;32mc:\\Users\\oscar\\anaconda3\\envs\\dash\\Lib\\site-packages\\IPython\\lib\\pretty.py:692\u001b[0m, in \u001b[0;36m_dict_pprinter_factory.<locals>.inner\u001b[1;34m(obj, p, cycle)\u001b[0m\n\u001b[0;32m    690\u001b[0m     p\u001b[39m.\u001b[39mpretty(key)\n\u001b[0;32m    691\u001b[0m     p\u001b[39m.\u001b[39mtext(\u001b[39m'\u001b[39m\u001b[39m: \u001b[39m\u001b[39m'\u001b[39m)\n\u001b[1;32m--> 692\u001b[0m     p\u001b[39m.\u001b[39mpretty(obj[key])\n\u001b[0;32m    693\u001b[0m p\u001b[39m.\u001b[39mend_group(step, end)\n",
      "File \u001b[1;32mc:\\Users\\oscar\\anaconda3\\envs\\dash\\Lib\\site-packages\\PyPDF2\\generic\\_data_structures.py:266\u001b[0m, in \u001b[0;36mDictionaryObject.__getitem__\u001b[1;34m(self, key)\u001b[0m\n\u001b[0;32m    265\u001b[0m \u001b[39mdef\u001b[39;00m \u001b[39m__getitem__\u001b[39m(\u001b[39mself\u001b[39m, key: Any) \u001b[39m-\u001b[39m\u001b[39m>\u001b[39m PdfObject:\n\u001b[1;32m--> 266\u001b[0m     \u001b[39mreturn\u001b[39;00m \u001b[39mdict\u001b[39;49m\u001b[39m.\u001b[39;49m\u001b[39m__getitem__\u001b[39;49m(\u001b[39mself\u001b[39;49m, key)\u001b[39m.\u001b[39;49mget_object()\n",
      "File \u001b[1;32mc:\\Users\\oscar\\anaconda3\\envs\\dash\\Lib\\site-packages\\PyPDF2\\generic\\_base.py:259\u001b[0m, in \u001b[0;36mIndirectObject.get_object\u001b[1;34m(self)\u001b[0m\n\u001b[0;32m    258\u001b[0m \u001b[39mdef\u001b[39;00m \u001b[39mget_object\u001b[39m(\u001b[39mself\u001b[39m) \u001b[39m-\u001b[39m\u001b[39m>\u001b[39m Optional[\u001b[39m\"\u001b[39m\u001b[39mPdfObject\u001b[39m\u001b[39m\"\u001b[39m]:\n\u001b[1;32m--> 259\u001b[0m     obj \u001b[39m=\u001b[39m \u001b[39mself\u001b[39;49m\u001b[39m.\u001b[39;49mpdf\u001b[39m.\u001b[39;49mget_object(\u001b[39mself\u001b[39;49m)\n\u001b[0;32m    260\u001b[0m     \u001b[39mif\u001b[39;00m obj \u001b[39mis\u001b[39;00m \u001b[39mNone\u001b[39;00m:\n\u001b[0;32m    261\u001b[0m         \u001b[39mreturn\u001b[39;00m \u001b[39mNone\u001b[39;00m\n",
      "File \u001b[1;32mc:\\Users\\oscar\\anaconda3\\envs\\dash\\Lib\\site-packages\\PyPDF2\\_reader.py:1269\u001b[0m, in \u001b[0;36mPdfReader.get_object\u001b[1;34m(self, indirect_reference)\u001b[0m\n\u001b[0;32m   1267\u001b[0m         \u001b[39m# otherwise, decrypt here...\u001b[39;00m\n\u001b[0;32m   1268\u001b[0m         retval \u001b[39m=\u001b[39m cast(PdfObject, retval)\n\u001b[1;32m-> 1269\u001b[0m         retval \u001b[39m=\u001b[39m \u001b[39mself\u001b[39;49m\u001b[39m.\u001b[39;49m_encryption\u001b[39m.\u001b[39;49mdecrypt_object(\n\u001b[0;32m   1270\u001b[0m             retval, indirect_reference\u001b[39m.\u001b[39;49midnum, indirect_reference\u001b[39m.\u001b[39;49mgeneration\n\u001b[0;32m   1271\u001b[0m         )\n\u001b[0;32m   1272\u001b[0m \u001b[39melse\u001b[39;00m:\n\u001b[0;32m   1273\u001b[0m     \u001b[39mif\u001b[39;00m \u001b[39mhasattr\u001b[39m(\u001b[39mself\u001b[39m\u001b[39m.\u001b[39mstream, \u001b[39m\"\u001b[39m\u001b[39mgetbuffer\u001b[39m\u001b[39m\"\u001b[39m):\n",
      "File \u001b[1;32mc:\\Users\\oscar\\anaconda3\\envs\\dash\\Lib\\site-packages\\PyPDF2\\_encryption.py:761\u001b[0m, in \u001b[0;36mEncryption.decrypt_object\u001b[1;34m(self, obj, idnum, generation)\u001b[0m\n\u001b[0;32m    758\u001b[0m efCrypt \u001b[39m=\u001b[39m \u001b[39mself\u001b[39m\u001b[39m.\u001b[39m_get_crypt(\u001b[39mself\u001b[39m\u001b[39m.\u001b[39mEFF, rc4_key, aes128_key, aes256_key)\n\u001b[0;32m    760\u001b[0m cf \u001b[39m=\u001b[39m CryptFilter(stmCrypt, StrCrypt, efCrypt)\n\u001b[1;32m--> 761\u001b[0m \u001b[39mreturn\u001b[39;00m cf\u001b[39m.\u001b[39;49mdecrypt_object(obj)\n",
      "File \u001b[1;32mc:\\Users\\oscar\\anaconda3\\envs\\dash\\Lib\\site-packages\\PyPDF2\\_encryption.py:185\u001b[0m, in \u001b[0;36mCryptFilter.decrypt_object\u001b[1;34m(self, obj)\u001b[0m\n\u001b[0;32m    183\u001b[0m     obj \u001b[39m=\u001b[39m create_string_object(data)\n\u001b[0;32m    184\u001b[0m \u001b[39melif\u001b[39;00m \u001b[39misinstance\u001b[39m(obj, StreamObject):\n\u001b[1;32m--> 185\u001b[0m     obj\u001b[39m.\u001b[39m_data \u001b[39m=\u001b[39m \u001b[39mself\u001b[39;49m\u001b[39m.\u001b[39;49mstmCrypt\u001b[39m.\u001b[39;49mdecrypt(obj\u001b[39m.\u001b[39;49m_data)\n\u001b[0;32m    186\u001b[0m \u001b[39melif\u001b[39;00m \u001b[39misinstance\u001b[39m(obj, DictionaryObject):\n\u001b[0;32m    187\u001b[0m     \u001b[39mfor\u001b[39;00m dictkey, value \u001b[39min\u001b[39;00m \u001b[39mlist\u001b[39m(obj\u001b[39m.\u001b[39mitems()):\n",
      "File \u001b[1;32mc:\\Users\\oscar\\anaconda3\\envs\\dash\\Lib\\site-packages\\PyPDF2\\_encryption.py:147\u001b[0m, in \u001b[0;36mCryptAES.decrypt\u001b[1;34m(self, data)\u001b[0m\n\u001b[0;32m    146\u001b[0m \u001b[39mdef\u001b[39;00m \u001b[39mdecrypt\u001b[39m(\u001b[39mself\u001b[39m, data: \u001b[39mbytes\u001b[39m) \u001b[39m-\u001b[39m\u001b[39m>\u001b[39m \u001b[39mbytes\u001b[39m:\n\u001b[1;32m--> 147\u001b[0m     \u001b[39mraise\u001b[39;00m DependencyError(\u001b[39m\"\u001b[39m\u001b[39mPyCryptodome is required for AES algorithm\u001b[39m\u001b[39m\"\u001b[39m)\n",
      "\u001b[1;31mDependencyError\u001b[0m: PyCryptodome is required for AES algorithm"
     ]
    }
   ],
   "source": [
    "pdfReader.pages[0]"
   ]
  }
 ],
 "metadata": {
  "kernelspec": {
   "display_name": "dash",
   "language": "python",
   "name": "python3"
  },
  "language_info": {
   "codemirror_mode": {
    "name": "ipython",
    "version": 3
   },
   "file_extension": ".py",
   "mimetype": "text/x-python",
   "name": "python",
   "nbconvert_exporter": "python",
   "pygments_lexer": "ipython3",
   "version": "3.11.4"
  },
  "orig_nbformat": 4
 },
 "nbformat": 4,
 "nbformat_minor": 2
}
