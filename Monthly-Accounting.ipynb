{
 "cells": [
  {
   "cell_type": "markdown",
   "metadata": {},
   "source": [
    "## Monthly Accounting"
   ]
  },
  {
   "cell_type": "code",
   "execution_count": 2,
   "metadata": {},
   "outputs": [],
   "source": [
    "# General Libraries\n",
    "\n",
    "import os\n",
    "from bs4 import BeautifulSoup\n",
    "import requests\n",
    "import pymongo\n",
    "import re\n",
    "import json\n",
    "from datetime import datetime\n",
    "import time\n",
    "\n",
    "# Dataframe manipulation\n",
    "from glob import glob\n",
    "import pandas as pd\n",
    "\n",
    "# Database\n",
    "import psycopg2\n",
    "from config import config\n",
    "\n",
    "# Cryptography Library\n",
    "from cryptography.fernet import Fernet"
   ]
  },
  {
   "cell_type": "code",
   "execution_count": 3,
   "metadata": {},
   "outputs": [
    {
     "name": "stdout",
     "output_type": "stream",
     "text": [
      "Olá Elaine,\n",
      "\n",
      "Em anexo a Nota de Débito do Mailchimp deste mês.\n",
      "\n",
      "Oscar\n"
     ]
    }
   ],
   "source": [
    "# Load Script Parameters\n",
    "\n",
    "# Code References\n",
    "    # https://www.scaler.com/topics/how-to-open-json-file-in-python/\n",
    "    # https://bobbyhadz.com/blog/python-assign-dictionary-value-to-variable#assign-dictionary-key-value-pairs-to-variables-in-python\n",
    "\n",
    "# Open json file with the parameters\n",
    "with open(\"Monthly-Accounting-Params.json\", \"r\") as file:\n",
    "    jsonData = json.load(file)\n",
    "# print(\"Datatype of variable: \", type(jsonData))\n",
    "\n",
    "# Initiate variables\n",
    "locals().update(jsonData['crypto'])\n",
    "locals().update(jsonData['toggl'])\n",
    "locals().update(jsonData['mail'])\n",
    "\n",
    "# Decode passwords\n",
    "key = bytes(pwd_key, 'utf-8')\n",
    "fernet = Fernet(key)\n",
    "\n",
    "mail_password = fernet.decrypt(bytes(mail_password, 'utf-8')).decode()\n",
    "\n",
    "print(nd_mail_body)"
   ]
  },
  {
   "cell_type": "code",
   "execution_count": 5,
   "metadata": {},
   "outputs": [
    {
     "name": "stdout",
     "output_type": "stream",
     "text": [
      "D:\\Primeway\\Primeway\\Administração\\Planejamento Diário\\Toggl\\2023\\07\n"
     ]
    }
   ],
   "source": [
    "# Create destination folder and/or mount the path\n",
    "\n",
    "today = datetime.today()\n",
    "current_year = today.year\n",
    "current_month = today.month\n",
    "\n",
    "# Processing year and month\n",
    "month = '12' if current_month == 1 else str(current_month - 1).zfill(2)\n",
    "year = str(current_year) if current_month > 1 else str(current_year - 1)\n",
    "# print(month)\n",
    "# print(year)\n",
    "\n",
    "dest_folder = toggl_folder + year + '\\\\' + month\n",
    "print(dest_folder)\n",
    "\n",
    "if not os.path.isdir(dest_folder):\n",
    "   os.mkdir(dest_folder)\n"
   ]
  },
  {
   "cell_type": "code",
   "execution_count": 9,
   "metadata": {},
   "outputs": [],
   "source": [
    "# Connect to Google Driver\n",
    "# Source: # https://stackoverflow.com/questions/66209119/automation-google-login-with-python-and-selenium-shows-this-browser-or-app-may\n",
    "\n",
    "import undetected_chromedriver as uc\n",
    "\n",
    "from selenium.webdriver.common.keys import Keys\n",
    "from selenium.webdriver.common.by import By\n",
    "from selenium.webdriver.common.action_chains import ActionChains\n",
    "from selenium.webdriver.support.ui import Select\n",
    "from selenium.webdriver.support.ui import WebDriverWait\n",
    "from selenium.webdriver.support import expected_conditions as EC\n",
    "\n",
    "# Options\n",
    "options = uc.ChromeOptions()\n",
    "# options.add_argument('--headless')\n",
    "options.add_argument('--no-sandbox')\n",
    "options.add_argument('--disable-dev-shm-usage')\n",
    "# prefs = {'download.default_directory' : 'D:\\\\Primeway\\\\Primeway\\\\Administração\\\\Planejamento Diário\\\\Toggl'}\n",
    "prefs = {'download.default_directory' : dest_folder}\n",
    "options.add_experimental_option('prefs', prefs)\n",
    "\n",
    "\n",
    "driver = uc.Chrome(use_subprocess=True, options=options)\n",
    "driver.get(\"https://track.toggl.com/\")"
   ]
  },
  {
   "cell_type": "code",
   "execution_count": 10,
   "metadata": {},
   "outputs": [
    {
     "name": "stdout",
     "output_type": "stream",
     "text": [
      "Ok\n"
     ]
    }
   ],
   "source": [
    "# Get Gmail Account and Password\n",
    "\n",
    "# email = input(\"Google Account:\")\n",
    "password = input(\"Google Password:\")\n",
    "print('Ok')"
   ]
  },
  {
   "cell_type": "code",
   "execution_count": 13,
   "metadata": {},
   "outputs": [],
   "source": [
    "# Google Login\n",
    "\n",
    "try:\n",
    "\n",
    "   # driver.find_element(By.CSS_SELECTOR, '.css-154ozm6-SocialLogin').click()\n",
    "   driver.find_element(By.CSS_SELECTOR, 'a.css-1dct05').click()\n",
    "\n",
    "   email_field = WebDriverWait(driver,20).until(\n",
    "      EC.presence_of_element_located((By.ID, 'identifierId'))\n",
    "   )\n",
    "   email_field.send_keys(mail_sender)\n",
    "   email_field.send_keys(Keys.RETURN)\n",
    "   \n",
    "   driver.implicitly_wait(10)\n",
    "   \n",
    "   password_field = WebDriverWait(driver, 20).until(\n",
    "      EC.presence_of_element_located((By.CSS_SELECTOR, 'input[name=\"Passwd\"]'))\n",
    "   )\n",
    "   password_field.send_keys(password)\n",
    "   password_field.send_keys(Keys.RETURN)\n",
    "   \n",
    "except Exception as error:\n",
    "   print(error)"
   ]
  },
  {
   "cell_type": "code",
   "execution_count": 21,
   "metadata": {},
   "outputs": [],
   "source": [
    "# Go to Previous Month Report Page and Download CSV File\n",
    "\n",
    "try:\n",
    "\n",
    "   driver.get('https://track.toggl.com/reports/detailed/1891953/period/prevMonth')\n",
    "\n",
    "   # Detailed report - Click the download CSV link\n",
    "   elem = WebDriverWait(driver, 10).until(\n",
    "      EC.presence_of_element_located((By.CSS_SELECTOR, '.css-4jnc92-Button-button-button-bodyText-PlainButton-EnhancedPlainButton'))\n",
    "   )\n",
    "   elem.click()\n",
    "   elem = WebDriverWait(driver, 10).until(\n",
    "      EC.presence_of_element_located((By.CSS_SELECTOR, '.css-5drhz0-Container [data-heap-id=\"csv\"]'))\n",
    "   )\n",
    "   elem.click()\n",
    "\n",
    "except Exception as error:\n",
    "   print(error)\n"
   ]
  },
  {
   "cell_type": "code",
   "execution_count": 6,
   "metadata": {},
   "outputs": [
    {
     "name": "stdout",
     "output_type": "stream",
     "text": [
      "All tasks have an associated project!\n"
     ]
    }
   ],
   "source": [
    "# Verify if all Toggl task has an associated project\n",
    "\n",
    "# print(dest_folder + \"\\\\*.csv\")\n",
    "\n",
    "tasks = glob(dest_folder + \"\\\\*.csv\")[0]\n",
    "df = pd.read_csv(tasks)\n",
    "\n",
    "pd.options.display.max_rows = 999\n",
    "\n",
    "# df\n",
    "\n",
    "filtered_df = df[df['Project'].isnull()]\n",
    "\n",
    "if filtered_df.size == 0:\n",
    "   print(\"All tasks have an associated project!\")\n",
    "else:\n",
    "   filtered_df"
   ]
  },
  {
   "cell_type": "code",
   "execution_count": null,
   "metadata": {},
   "outputs": [],
   "source": [
    "# a = df.columns.values\n",
    "# # print(a)\n",
    "# print(*a,sep='\\n')"
   ]
  },
  {
   "cell_type": "code",
   "execution_count": 30,
   "metadata": {},
   "outputs": [],
   "source": [
    "# Download PDF Files\n",
    "\n",
    "def download_pdf():\n",
    "   elem = WebDriverWait(driver, 10).until(\n",
    "      EC.presence_of_element_located((By.CSS_SELECTOR, '.css-4jnc92-Button-button-button-bodyText-PlainButton-EnhancedPlainButton'))\n",
    "   )\n",
    "   elem.click()\n",
    "   elem = WebDriverWait(driver, 10).until(\n",
    "      EC.presence_of_element_located((By.CSS_SELECTOR, '.css-5drhz0-Container [data-heap-id=\"pdf\"]'))\n",
    "   )\n",
    "   elem.click()\n",
    "\n",
    "\n",
    "try:\n",
    "\n",
    "   # Detailed report - Click the download PDF link\n",
    "   driver.get('https://track.toggl.com/reports/detailed/1891953/period/prevMonth')\n",
    "   WebDriverWait(driver, 10).until(EC.presence_of_element_located((By.ID, 'reports-header')))\n",
    "   download_pdf()\n",
    "\n",
    "   time.sleep(10)\n",
    "\n",
    "   # Sumemary report - Click the download PDF link\n",
    "   driver.get('https://track.toggl.com/reports/summary/1891953/period/prevMonth')\n",
    "   WebDriverWait(driver, 10).until(EC.presence_of_element_located((By.ID, 'reports-header')))\n",
    "   download_pdf()\n",
    "\n",
    "except Exception as error:\n",
    "   print(error)\n"
   ]
  }
 ],
 "metadata": {
  "kernelspec": {
   "display_name": "dash",
   "language": "python",
   "name": "python3"
  },
  "language_info": {
   "codemirror_mode": {
    "name": "ipython",
    "version": 3
   },
   "file_extension": ".py",
   "mimetype": "text/x-python",
   "name": "python",
   "nbconvert_exporter": "python",
   "pygments_lexer": "ipython3",
   "version": "3.11.4"
  },
  "orig_nbformat": 4
 },
 "nbformat": 4,
 "nbformat_minor": 2
}
