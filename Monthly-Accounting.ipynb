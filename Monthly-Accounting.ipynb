{
 "cells": [
  {
   "cell_type": "markdown",
   "metadata": {},
   "source": [
    "## Monthly Accounting"
   ]
  },
  {
   "cell_type": "code",
   "execution_count": 38,
   "metadata": {},
   "outputs": [],
   "source": [
    "# General Libraries\n",
    "\n",
    "import os\n",
    "from bs4 import BeautifulSoup\n",
    "import requests\n",
    "import pymongo\n",
    "import re\n",
    "import json\n",
    "from datetime import datetime\n",
    "\n",
    "# Dataframe manipulation\n",
    "from glob import glob\n",
    "import pandas as pd\n",
    "\n",
    "# Cryptography Library\n",
    "from cryptography.fernet import Fernet"
   ]
  },
  {
   "cell_type": "code",
   "execution_count": null,
   "metadata": {},
   "outputs": [],
   "source": [
    "# Selenium Connection - PREVIOUS VERSION\n",
    "\n",
    "# from selenium import webdriver\n",
    "# from selenium.webdriver.chrome.service import Service\n",
    "\n",
    "# service = Service(executable_path='r/chromedriver')\n",
    "# options = webdriver.ChromeOptions()\n",
    "# # options.add_argument('--headless')\n",
    "# options.add_argument('--no-sandbox')\n",
    "# options.add_argument('--disable-dev-shm-usage')\n",
    "# driver = webdriver.Chrome(service=service, options=options)\n",
    "\n",
    "# from selenium.webdriver.common.keys import Keys\n",
    "# from selenium.webdriver.common.by import By\n",
    "# from selenium.webdriver.common.action_chains import ActionChains\n",
    "# from selenium.webdriver.support.ui import Select\n",
    "# from selenium.webdriver.support.ui import WebDriverWait\n",
    "# from selenium.webdriver.support import expected_conditions as EC\n",
    "\n",
    "# url = \"https://track.toggl.com/\"\n",
    "# driver.get(url)\n"
   ]
  },
  {
   "cell_type": "code",
   "execution_count": 18,
   "metadata": {},
   "outputs": [
    {
     "name": "stdout",
     "output_type": "stream",
     "text": [
      "Olá Elaine,\n",
      "\n",
      "Em anexo a Nota de Débito do Mailchimp deste mês.\n",
      "\n",
      "Oscar\n"
     ]
    }
   ],
   "source": [
    "# Load Script Parameters\n",
    "\n",
    "# Code References\n",
    "    # https://www.scaler.com/topics/how-to-open-json-file-in-python/\n",
    "    # https://bobbyhadz.com/blog/python-assign-dictionary-value-to-variable#assign-dictionary-key-value-pairs-to-variables-in-python\n",
    "\n",
    "# Open json file with the parameters\n",
    "with open(\"Monthly-Accounting-Params.json\", \"r\") as file:\n",
    "    jsonData = json.load(file)\n",
    "# print(\"Datatype of variable: \", type(jsonData))\n",
    "\n",
    "# Initiate variables\n",
    "locals().update(jsonData['crypto'])\n",
    "locals().update(jsonData['toggl'])\n",
    "locals().update(jsonData['mail'])\n",
    "\n",
    "# Decode passwords\n",
    "key = bytes(pwd_key, 'utf-8')\n",
    "fernet = Fernet(key)\n",
    "\n",
    "mail_password = fernet.decrypt(bytes(mail_password, 'utf-8')).decode()\n",
    "\n",
    "print(nd_mail_body)"
   ]
  },
  {
   "cell_type": "code",
   "execution_count": 45,
   "metadata": {},
   "outputs": [
    {
     "name": "stdout",
     "output_type": "stream",
     "text": [
      "D:\\Primeway\\Primeway\\Administração\\Planejamento Diário\\Toggl\\2023\\07\n"
     ]
    }
   ],
   "source": [
    "# Create destination folder and/or mount the path\n",
    "\n",
    "today = datetime.today()\n",
    "current_year = today.year\n",
    "current_month = today.month\n",
    "\n",
    "# Processing year and month\n",
    "month = '12' if current_month == 1 else str(current_month - 1).zfill(2)\n",
    "year = str(current_year) if current_month > 1 else str(current_year - 1)\n",
    "# print(month)\n",
    "# print(year)\n",
    "\n",
    "dest_folder = toggl_folder + year + '\\\\' + month\n",
    "print(dest_folder)\n",
    "\n",
    "if not os.path.isdir(dest_folder):\n",
    "   os.mkdir(dest_folder)\n"
   ]
  },
  {
   "cell_type": "code",
   "execution_count": 26,
   "metadata": {},
   "outputs": [],
   "source": [
    "# Connect to Google Driver\n",
    "# Source: # https://stackoverflow.com/questions/66209119/automation-google-login-with-python-and-selenium-shows-this-browser-or-app-may\n",
    "\n",
    "import undetected_chromedriver as uc\n",
    "\n",
    "from selenium.webdriver.common.keys import Keys\n",
    "from selenium.webdriver.common.by import By\n",
    "from selenium.webdriver.common.action_chains import ActionChains\n",
    "from selenium.webdriver.support.ui import Select\n",
    "from selenium.webdriver.support.ui import WebDriverWait\n",
    "from selenium.webdriver.support import expected_conditions as EC\n",
    "\n",
    "# Options\n",
    "options = uc.ChromeOptions()\n",
    "# options.add_argument('--headless')\n",
    "options.add_argument('--no-sandbox')\n",
    "options.add_argument('--disable-dev-shm-usage')\n",
    "# prefs = {'download.default_directory' : 'D:\\\\Primeway\\\\Primeway\\\\Administração\\\\Planejamento Diário\\\\Toggl'}\n",
    "prefs = {'download.default_directory' : dest_folder}\n",
    "options.add_experimental_option('prefs', prefs)\n",
    "\n",
    "\n",
    "driver = uc.Chrome(use_subprocess=True, options=options)\n",
    "driver.get(\"https://track.toggl.com/\")"
   ]
  },
  {
   "cell_type": "code",
   "execution_count": 22,
   "metadata": {},
   "outputs": [
    {
     "name": "stdout",
     "output_type": "stream",
     "text": [
      "Ok\n"
     ]
    }
   ],
   "source": [
    "# Get Gmail Account and Password\n",
    "\n",
    "# email = input(\"Google Account:\")\n",
    "password = input(\"Google Password:\")\n",
    "print('Ok')"
   ]
  },
  {
   "cell_type": "code",
   "execution_count": 27,
   "metadata": {},
   "outputs": [],
   "source": [
    "# Google Login\n",
    "\n",
    "try:\n",
    "\n",
    "   driver.find_element(By.CSS_SELECTOR, '.css-154ozm6-SocialLogin').click()\n",
    "\n",
    "   email_field = WebDriverWait(driver,20).until(\n",
    "      EC.presence_of_element_located((By.ID, 'identifierId'))\n",
    "   )\n",
    "   email_field.send_keys(mail_sender)\n",
    "   email_field.send_keys(Keys.RETURN)\n",
    "   \n",
    "   driver.implicitly_wait(10)\n",
    "   \n",
    "   password_field = WebDriverWait(driver, 20).until(\n",
    "      EC.presence_of_element_located((By.CSS_SELECTOR, 'input[name=\"Passwd\"]'))\n",
    "   )\n",
    "   password_field.send_keys(password)\n",
    "   password_field.send_keys(Keys.RETURN)\n",
    "   \n",
    "except Exception as error:\n",
    "   print(error)"
   ]
  },
  {
   "cell_type": "code",
   "execution_count": 28,
   "metadata": {},
   "outputs": [],
   "source": [
    "# Go to Previous Month Report Page\n",
    "\n",
    "try:\n",
    "\n",
    "   driver.get('https://track.toggl.com/reports/detailed/1891953/period/prevMonth')\n",
    "\n",
    "   # Click the download CSV link\n",
    "   elem = WebDriverWait(driver, 10).until(\n",
    "      EC.presence_of_element_located((By.CSS_SELECTOR, '.css-4jnc92-Button-button-button-bodyText-PlainButton-EnhancedPlainButton'))\n",
    "   )\n",
    "   elem.click()\n",
    "   elem = WebDriverWait(driver, 10).until(\n",
    "      EC.presence_of_element_located((By.CSS_SELECTOR, '.css-2gl5op-ListItem-listItemStyles-EnhancedListItem'))\n",
    "   )\n",
    "   elem.click()\n",
    "\n",
    "except Exception as error:\n",
    "   print(error)\n"
   ]
  },
  {
   "cell_type": "code",
   "execution_count": 49,
   "metadata": {},
   "outputs": [
    {
     "data": {
      "text/plain": [
       "<bound method NDFrame.head of                User                  Email    Client          Project  Task  \\\n",
       "0    Oscar Carvalho  oscar@primeway.com.br  Primeway      Treinamento   NaN   \n",
       "1    Oscar Carvalho  oscar@primeway.com.br  Primeway      Treinamento   NaN   \n",
       "2    Oscar Carvalho  oscar@primeway.com.br  Primeway      Treinamento   NaN   \n",
       "3    Oscar Carvalho  oscar@primeway.com.br  Primeway      Treinamento   NaN   \n",
       "4    Oscar Carvalho  oscar@primeway.com.br  Primeway      Treinamento   NaN   \n",
       "..              ...                    ...       ...              ...   ...   \n",
       "228  Oscar Carvalho  oscar@primeway.com.br  Primeway  Serviços Gerais   NaN   \n",
       "229  Oscar Carvalho  oscar@primeway.com.br  Primeway  Serviços Gerais   NaN   \n",
       "230  Oscar Carvalho  oscar@primeway.com.br  Primeway  Serviços Gerais   NaN   \n",
       "231  Oscar Carvalho  oscar@primeway.com.br  Primeway  Serviços Gerais   NaN   \n",
       "232  Oscar Carvalho  oscar@primeway.com.br  Primeway  Serviços Gerais   NaN   \n",
       "\n",
       "           Description Billable  Start date Start time    End date  End time  \\\n",
       "0      Economics study       No  2023-07-01   10:05:29  2023-07-01  11:08:15   \n",
       "1     Statistics Study       No  2023-07-01   23:12:27  2023-07-02  00:13:05   \n",
       "2     Statistics Study       No  2023-07-02   08:13:44  2023-07-02  08:14:14   \n",
       "3     Statistics Study       No  2023-07-02   08:40:47  2023-07-02  09:40:47   \n",
       "4      Economics study       No  2023-07-02   10:30:25  2023-07-02  10:49:40   \n",
       "..                 ...      ...         ...        ...         ...       ...   \n",
       "228          Invoicing       No  2023-07-31   10:36:19  2023-07-31  10:37:40   \n",
       "229  Python Automation       No  2023-07-31   10:37:48  2023-07-31  10:52:54   \n",
       "230  Python Automation       No  2023-07-31   12:04:56  2023-07-31  12:46:28   \n",
       "231  Python Automation       No  2023-07-31   12:47:20  2023-07-31  12:58:52   \n",
       "232  Python Automation       No  2023-07-31   13:06:51  2023-07-31  13:18:11   \n",
       "\n",
       "     Duration  Tags  Amount ()  \n",
       "0    01:02:46   NaN        NaN  \n",
       "1    01:00:38   NaN        NaN  \n",
       "2    00:00:30   NaN        NaN  \n",
       "3    01:00:00   NaN        NaN  \n",
       "4    00:19:15   NaN        NaN  \n",
       "..        ...   ...        ...  \n",
       "228  00:01:21   NaN        NaN  \n",
       "229  00:15:06   NaN        NaN  \n",
       "230  00:41:32   NaN        NaN  \n",
       "231  00:11:32   NaN        NaN  \n",
       "232  00:11:20   NaN        NaN  \n",
       "\n",
       "[233 rows x 14 columns]>"
      ]
     },
     "execution_count": 49,
     "metadata": {},
     "output_type": "execute_result"
    }
   ],
   "source": [
    "# Verify if all Toggl task has an associated project\n",
    "\n",
    "# print(dest_folder + \"\\\\*.csv\")\n",
    "\n",
    "tasks = glob(dest_folder + \"\\\\*.csv\")[0]\n",
    "data = pd.read_csv(tasks)\n",
    "\n",
    "data.head"
   ]
  }
 ],
 "metadata": {
  "kernelspec": {
   "display_name": "dash",
   "language": "python",
   "name": "python3"
  },
  "language_info": {
   "codemirror_mode": {
    "name": "ipython",
    "version": 3
   },
   "file_extension": ".py",
   "mimetype": "text/x-python",
   "name": "python",
   "nbconvert_exporter": "python",
   "pygments_lexer": "ipython3",
   "version": "3.11.4"
  },
  "orig_nbformat": 4
 },
 "nbformat": 4,
 "nbformat_minor": 2
}
