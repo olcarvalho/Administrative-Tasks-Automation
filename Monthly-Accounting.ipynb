{
 "cells": [
  {
   "cell_type": "markdown",
   "metadata": {},
   "source": [
    "## Monthly Accounting"
   ]
  },
  {
   "cell_type": "code",
   "execution_count": 1,
   "metadata": {},
   "outputs": [],
   "source": [
    "# General Libraries\n",
    "\n",
    "import os\n",
    "from bs4 import BeautifulSoup\n",
    "import requests\n",
    "import pymongo\n",
    "import re\n",
    "import json\n",
    "from datetime import datetime\n",
    "import time\n",
    "\n",
    "# Dataframe manipulation\n",
    "from glob import glob\n",
    "import pandas as pd\n",
    "\n",
    "# Database\n",
    "import psycopg2\n",
    "from config import config\n",
    "# from sqlalchemy import create_engine\n",
    "import sqlalchemy as sa\n",
    "\n",
    "# Cryptography Library\n",
    "from cryptography.fernet import Fernet"
   ]
  },
  {
   "cell_type": "code",
   "execution_count": 2,
   "metadata": {},
   "outputs": [
    {
     "name": "stdout",
     "output_type": "stream",
     "text": [
      "Olá Elaine,\n",
      "\n",
      "Em anexo a Nota de Débito do Mailchimp deste mês.\n",
      "\n",
      "Oscar\n"
     ]
    }
   ],
   "source": [
    "# Load Script Parameters\n",
    "\n",
    "# Code References\n",
    "    # https://www.scaler.com/topics/how-to-open-json-file-in-python/\n",
    "    # https://bobbyhadz.com/blog/python-assign-dictionary-value-to-variable#assign-dictionary-key-value-pairs-to-variables-in-python\n",
    "\n",
    "# Open json file with the parameters\n",
    "with open(\"Monthly-Accounting-Params.json\", \"r\") as file:\n",
    "    jsonData = json.load(file)\n",
    "# print(\"Datatype of variable: \", type(jsonData))\n",
    "\n",
    "# Initiate variables\n",
    "locals().update(jsonData['crypto'])\n",
    "locals().update(jsonData['toggl'])\n",
    "locals().update(jsonData['mail'])\n",
    "\n",
    "# Decode passwords\n",
    "key = bytes(pwd_key, 'utf-8')\n",
    "fernet = Fernet(key)\n",
    "\n",
    "mail_password = fernet.decrypt(bytes(mail_password, 'utf-8')).decode()\n",
    "\n",
    "print(nd_mail_body)"
   ]
  },
  {
   "cell_type": "code",
   "execution_count": 3,
   "metadata": {},
   "outputs": [
    {
     "name": "stdout",
     "output_type": "stream",
     "text": [
      "D:\\Primeway\\Primeway\\Administração\\Planejamento Diário\\Toggl\\2023\\07\n"
     ]
    }
   ],
   "source": [
    "# Create destination folder and/or mount the path\n",
    "\n",
    "today = datetime.today()\n",
    "current_year = today.year\n",
    "current_month = today.month\n",
    "\n",
    "# Processing year and month\n",
    "month = '12' if current_month == 1 else str(current_month - 1).zfill(2)\n",
    "year = str(current_year) if current_month > 1 else str(current_year - 1)\n",
    "# print(month)\n",
    "# print(year)\n",
    "\n",
    "dest_folder = toggl_folder + year + '\\\\' + month\n",
    "print(dest_folder)\n",
    "\n",
    "if not os.path.isdir(dest_folder):\n",
    "   os.mkdir(dest_folder)\n"
   ]
  },
  {
   "cell_type": "code",
   "execution_count": 9,
   "metadata": {},
   "outputs": [],
   "source": [
    "# Connect to Google Driver\n",
    "# Source: # https://stackoverflow.com/questions/66209119/automation-google-login-with-python-and-selenium-shows-this-browser-or-app-may\n",
    "\n",
    "import undetected_chromedriver as uc\n",
    "\n",
    "from selenium.webdriver.common.keys import Keys\n",
    "from selenium.webdriver.common.by import By\n",
    "from selenium.webdriver.common.action_chains import ActionChains\n",
    "from selenium.webdriver.support.ui import Select\n",
    "from selenium.webdriver.support.ui import WebDriverWait\n",
    "from selenium.webdriver.support import expected_conditions as EC\n",
    "\n",
    "# Options\n",
    "options = uc.ChromeOptions()\n",
    "# options.add_argument('--headless')\n",
    "options.add_argument('--no-sandbox')\n",
    "options.add_argument('--disable-dev-shm-usage')\n",
    "# prefs = {'download.default_directory' : 'D:\\\\Primeway\\\\Primeway\\\\Administração\\\\Planejamento Diário\\\\Toggl'}\n",
    "prefs = {'download.default_directory' : dest_folder}\n",
    "options.add_experimental_option('prefs', prefs)\n",
    "\n",
    "\n",
    "driver = uc.Chrome(use_subprocess=True, options=options)\n",
    "driver.get(\"https://track.toggl.com/\")"
   ]
  },
  {
   "cell_type": "code",
   "execution_count": 10,
   "metadata": {},
   "outputs": [
    {
     "name": "stdout",
     "output_type": "stream",
     "text": [
      "Ok\n"
     ]
    }
   ],
   "source": [
    "# Get Gmail Account and Password\n",
    "\n",
    "# email = input(\"Google Account:\")\n",
    "password = input(\"Google Password:\")\n",
    "print('Ok')"
   ]
  },
  {
   "cell_type": "code",
   "execution_count": 13,
   "metadata": {},
   "outputs": [],
   "source": [
    "# Google Login\n",
    "\n",
    "try:\n",
    "\n",
    "   # driver.find_element(By.CSS_SELECTOR, '.css-154ozm6-SocialLogin').click()\n",
    "   driver.find_element(By.CSS_SELECTOR, 'a.css-1dct05').click()\n",
    "\n",
    "   email_field = WebDriverWait(driver,20).until(\n",
    "      EC.presence_of_element_located((By.ID, 'identifierId'))\n",
    "   )\n",
    "   email_field.send_keys(mail_sender)\n",
    "   email_field.send_keys(Keys.RETURN)\n",
    "   \n",
    "   driver.implicitly_wait(10)\n",
    "   \n",
    "   password_field = WebDriverWait(driver, 20).until(\n",
    "      EC.presence_of_element_located((By.CSS_SELECTOR, 'input[name=\"Passwd\"]'))\n",
    "   )\n",
    "   password_field.send_keys(password)\n",
    "   password_field.send_keys(Keys.RETURN)\n",
    "   \n",
    "except Exception as error:\n",
    "   print(error)"
   ]
  },
  {
   "cell_type": "code",
   "execution_count": 21,
   "metadata": {},
   "outputs": [],
   "source": [
    "# Go to Previous Month Report Page and Download CSV File\n",
    "\n",
    "try:\n",
    "\n",
    "   driver.get('https://track.toggl.com/reports/detailed/1891953/period/prevMonth')\n",
    "\n",
    "   # Detailed report - Click the download CSV link\n",
    "   elem = WebDriverWait(driver, 10).until(\n",
    "      EC.presence_of_element_located((By.CSS_SELECTOR, '.css-4jnc92-Button-button-button-bodyText-PlainButton-EnhancedPlainButton'))\n",
    "   )\n",
    "   elem.click()\n",
    "   elem = WebDriverWait(driver, 10).until(\n",
    "      EC.presence_of_element_located((By.CSS_SELECTOR, '.css-5drhz0-Container [data-heap-id=\"csv\"]'))\n",
    "   )\n",
    "   elem.click()\n",
    "\n",
    "except Exception as error:\n",
    "   print(error)\n"
   ]
  },
  {
   "cell_type": "code",
   "execution_count": 4,
   "metadata": {},
   "outputs": [
    {
     "name": "stdout",
     "output_type": "stream",
     "text": [
      "All tasks have an associated project!\n"
     ]
    }
   ],
   "source": [
    "# Verify if all Toggl task has an associated project\n",
    "\n",
    "# print(dest_folder + \"\\\\*.csv\")\n",
    "\n",
    "tasks = glob(dest_folder + \"\\\\*.csv\")[0]\n",
    "df = pd.read_csv(tasks)\n",
    "\n",
    "pd.options.display.max_rows = 999\n",
    "\n",
    "# df\n",
    "\n",
    "filtered_df = df[df['Project'].isnull()]\n",
    "\n",
    "if filtered_df.size == 0:\n",
    "   print(\"All tasks have an associated project!\")\n",
    "else:\n",
    "   filtered_df"
   ]
  },
  {
   "cell_type": "code",
   "execution_count": null,
   "metadata": {},
   "outputs": [],
   "source": [
    "# a = df.columns.values\n",
    "# # print(a)\n",
    "# print(*a,sep='\\n')"
   ]
  },
  {
   "cell_type": "code",
   "execution_count": 30,
   "metadata": {},
   "outputs": [],
   "source": [
    "# Download PDF Files\n",
    "\n",
    "def download_pdf():\n",
    "   elem = WebDriverWait(driver, 10).until(\n",
    "      EC.presence_of_element_located((By.CSS_SELECTOR, '.css-4jnc92-Button-button-button-bodyText-PlainButton-EnhancedPlainButton'))\n",
    "   )\n",
    "   elem.click()\n",
    "   elem = WebDriverWait(driver, 10).until(\n",
    "      EC.presence_of_element_located((By.CSS_SELECTOR, '.css-5drhz0-Container [data-heap-id=\"pdf\"]'))\n",
    "   )\n",
    "   elem.click()\n",
    "\n",
    "\n",
    "try:\n",
    "\n",
    "   # Detailed report - Click the download PDF link\n",
    "   driver.get('https://track.toggl.com/reports/detailed/1891953/period/prevMonth')\n",
    "   WebDriverWait(driver, 10).until(EC.presence_of_element_located((By.ID, 'reports-header')))\n",
    "   download_pdf()\n",
    "\n",
    "   time.sleep(10)\n",
    "\n",
    "   # Sumemary report - Click the download PDF link\n",
    "   driver.get('https://track.toggl.com/reports/summary/1891953/period/prevMonth')\n",
    "   WebDriverWait(driver, 10).until(EC.presence_of_element_located((By.ID, 'reports-header')))\n",
    "   download_pdf()\n",
    "\n",
    "except Exception as error:\n",
    "   print(error)\n"
   ]
  },
  {
   "cell_type": "code",
   "execution_count": 49,
   "metadata": {},
   "outputs": [
    {
     "name": "stdout",
     "output_type": "stream",
     "text": [
      "psycopg2 ok!\n",
      "SQLAlchemy ok!\n"
     ]
    }
   ],
   "source": [
    "# Connect to PostgreSQL Database\n",
    "\n",
    "# read connection parameters\n",
    "params = config()\n",
    "\n",
    "# connect to the PostgreSQL server\n",
    "conn = psycopg2.connect(**params)\n",
    "conn.autocommit = True\n",
    "# create a cursor\n",
    "cursor = conn.cursor()\n",
    "print(\"psycopg2 ok!\")\n",
    "\n",
    "# Connect to database using SQLAlchemy\n",
    "# Source: \n",
    "# https://www.geeksforgeeks.org/how-to-write-pandas-dataframe-to-postgresql-table/\n",
    "# https://stackoverflow.com/questions/57761954/delete-rows-from-sql-server-bases-on-content-in-dataframe\n",
    "\n",
    "conn_string = \"postgresql+psycopg2://{}:{}@{}/{}\".format(params['user'], params['password'], params['host'], params['database'])\n",
    "alchemyEngine = sa.create_engine(conn_string)\n",
    "alchemyConnection = alchemyEngine.connect()\n",
    "print(\"SQLAlchemy ok!\")\n"
   ]
  },
  {
   "cell_type": "code",
   "execution_count": 14,
   "metadata": {},
   "outputs": [
    {
     "data": {
      "text/plain": [
       "233"
      ]
     },
     "execution_count": 14,
     "metadata": {},
     "output_type": "execute_result"
    }
   ],
   "source": [
    "# Save Toggl tasks into the PostgreSQL database\n",
    "\n",
    "# Delete previous entries from the same month, if it exists\n",
    "# select \"Client\", \"Project\", \"Description\", EXTRACT('Day' FROM \"Start date\"), EXTRACT('Year' FROM \"Start date\")  from time_entries\n",
    "# Where EXTRACT('Day' FROM \"Start date\") = 2\n",
    "sql = 'DELETE FROM time_entries WHERE EXTRACT(\"Year\" FROM \"Start date\") = ' + year + ' AND EXTRACT(\"Month\" FROM \"Start date\") = ' + month\n",
    "cursor.execute(sql)\n",
    "\n",
    "# Insert entries into time_entries table\n",
    "df.to_sql('time_entries', alchemyConnection, if_exists='append', index=False)"
   ]
  },
  {
   "cell_type": "code",
   "execution_count": null,
   "metadata": {},
   "outputs": [],
   "source": [
    "# Read Toggls tasks from the PostgreSQL database\n",
    "sql = 'SELECT \"Client\", \"Project\", \"Description\", EXTRACT(\"Day\" FROM \"Start date\")::Integer AS \"Day\", \"Duration\", ROUND(EXTRACT(\"epoch\" FROM \"Duration\")/3600, 2) AS \"Hours\" FROM time_entries WHERE EXTRACT(\"Year\" FROM \"Start date\") = ' + year + ' AND EXTRACT(\"Month\" FROM \"Start date\") = ' + month\n",
    "df2 = pd.read_sql(sql, alchemyConnection)\n",
    "\n",
    "# Close connections\n",
    "conn.close()\n",
    "alchemyConnection.close()\n",
    "\n",
    "df2.head(5)"
   ]
  },
  {
   "cell_type": "code",
   "execution_count": 51,
   "metadata": {},
   "outputs": [
    {
     "data": {
      "text/html": [
       "<div>\n",
       "<style scoped>\n",
       "    .dataframe tbody tr th:only-of-type {\n",
       "        vertical-align: middle;\n",
       "    }\n",
       "\n",
       "    .dataframe tbody tr th {\n",
       "        vertical-align: top;\n",
       "    }\n",
       "\n",
       "    .dataframe thead th {\n",
       "        text-align: right;\n",
       "    }\n",
       "</style>\n",
       "<table border=\"1\" class=\"dataframe\">\n",
       "  <thead>\n",
       "    <tr style=\"text-align: right;\">\n",
       "      <th></th>\n",
       "      <th>Client</th>\n",
       "      <th>Project</th>\n",
       "      <th>Description</th>\n",
       "      <th>Day</th>\n",
       "      <th>Duration</th>\n",
       "      <th>Hours</th>\n",
       "    </tr>\n",
       "  </thead>\n",
       "  <tbody>\n",
       "    <tr>\n",
       "      <th>0</th>\n",
       "      <td>Primeway</td>\n",
       "      <td>Treinamento</td>\n",
       "      <td>Economics study</td>\n",
       "      <td>1</td>\n",
       "      <td>01:02:46</td>\n",
       "      <td>1.05</td>\n",
       "    </tr>\n",
       "    <tr>\n",
       "      <th>1</th>\n",
       "      <td>Primeway</td>\n",
       "      <td>Treinamento</td>\n",
       "      <td>Statistics Study</td>\n",
       "      <td>1</td>\n",
       "      <td>01:00:38</td>\n",
       "      <td>1.01</td>\n",
       "    </tr>\n",
       "    <tr>\n",
       "      <th>2</th>\n",
       "      <td>Primeway</td>\n",
       "      <td>Treinamento</td>\n",
       "      <td>Statistics Study</td>\n",
       "      <td>2</td>\n",
       "      <td>00:00:30</td>\n",
       "      <td>0.01</td>\n",
       "    </tr>\n",
       "    <tr>\n",
       "      <th>3</th>\n",
       "      <td>Primeway</td>\n",
       "      <td>Treinamento</td>\n",
       "      <td>Statistics Study</td>\n",
       "      <td>2</td>\n",
       "      <td>01:00:00</td>\n",
       "      <td>1.00</td>\n",
       "    </tr>\n",
       "    <tr>\n",
       "      <th>4</th>\n",
       "      <td>Primeway</td>\n",
       "      <td>Treinamento</td>\n",
       "      <td>Economics study</td>\n",
       "      <td>2</td>\n",
       "      <td>00:19:15</td>\n",
       "      <td>0.32</td>\n",
       "    </tr>\n",
       "  </tbody>\n",
       "</table>\n",
       "</div>"
      ],
      "text/plain": [
       "     Client      Project       Description  Day  Duration  Hours\n",
       "0  Primeway  Treinamento   Economics study    1  01:02:46   1.05\n",
       "1  Primeway  Treinamento  Statistics Study    1  01:00:38   1.01\n",
       "2  Primeway  Treinamento  Statistics Study    2  00:00:30   0.01\n",
       "3  Primeway  Treinamento  Statistics Study    2  01:00:00   1.00\n",
       "4  Primeway  Treinamento   Economics study    2  00:19:15   0.32"
      ]
     },
     "execution_count": 51,
     "metadata": {},
     "output_type": "execute_result"
    }
   ],
   "source": [
    "df2.head(5)"
   ]
  },
  {
   "cell_type": "code",
   "execution_count": 60,
   "metadata": {},
   "outputs": [],
   "source": [
    "df3 = df2[[\"Client\", \"Project\"]]"
   ]
  },
  {
   "cell_type": "code",
   "execution_count": null,
   "metadata": {},
   "outputs": [],
   "source": [
    "df3"
   ]
  },
  {
   "cell_type": "code",
   "execution_count": 56,
   "metadata": {},
   "outputs": [
    {
     "ename": "TypeError",
     "evalue": "unsupported operand type(s) for +: 'datetime.time' and 'datetime.time'",
     "output_type": "error",
     "traceback": [
      "\u001b[1;31m---------------------------------------------------------------------------\u001b[0m",
      "\u001b[1;31mTypeError\u001b[0m                                 Traceback (most recent call last)",
      "Cell \u001b[1;32mIn[56], line 1\u001b[0m\n\u001b[1;32m----> 1\u001b[0m \u001b[39mprint\u001b[39m(df2\u001b[39m.\u001b[39;49mgroupby([\u001b[39m\"\u001b[39;49m\u001b[39mClient\u001b[39;49m\u001b[39m\"\u001b[39;49m, \u001b[39m\"\u001b[39;49m\u001b[39mProject\u001b[39;49m\u001b[39m\"\u001b[39;49m, \u001b[39m\"\u001b[39;49m\u001b[39mDescription\u001b[39;49m\u001b[39m\"\u001b[39;49m])\u001b[39m.\u001b[39;49msum())\n",
      "File \u001b[1;32mc:\\Users\\oscar\\anaconda3\\envs\\dash\\Lib\\site-packages\\pandas\\core\\groupby\\groupby.py:2263\u001b[0m, in \u001b[0;36mGroupBy.sum\u001b[1;34m(self, numeric_only, min_count, engine, engine_kwargs)\u001b[0m\n\u001b[0;32m   2258\u001b[0m \u001b[39melse\u001b[39;00m:\n\u001b[0;32m   2259\u001b[0m     \u001b[39m# If we are grouping on categoricals we want unobserved categories to\u001b[39;00m\n\u001b[0;32m   2260\u001b[0m     \u001b[39m# return zero, rather than the default of NaN which the reindexing in\u001b[39;00m\n\u001b[0;32m   2261\u001b[0m     \u001b[39m# _agg_general() returns. GH #31422\u001b[39;00m\n\u001b[0;32m   2262\u001b[0m     \u001b[39mwith\u001b[39;00m com\u001b[39m.\u001b[39mtemp_setattr(\u001b[39mself\u001b[39m, \u001b[39m\"\u001b[39m\u001b[39mobserved\u001b[39m\u001b[39m\"\u001b[39m, \u001b[39mTrue\u001b[39;00m):\n\u001b[1;32m-> 2263\u001b[0m         result \u001b[39m=\u001b[39m \u001b[39mself\u001b[39;49m\u001b[39m.\u001b[39;49m_agg_general(\n\u001b[0;32m   2264\u001b[0m             numeric_only\u001b[39m=\u001b[39;49mnumeric_only,\n\u001b[0;32m   2265\u001b[0m             min_count\u001b[39m=\u001b[39;49mmin_count,\n\u001b[0;32m   2266\u001b[0m             alias\u001b[39m=\u001b[39;49m\u001b[39m\"\u001b[39;49m\u001b[39msum\u001b[39;49m\u001b[39m\"\u001b[39;49m,\n\u001b[0;32m   2267\u001b[0m             npfunc\u001b[39m=\u001b[39;49mnp\u001b[39m.\u001b[39;49msum,\n\u001b[0;32m   2268\u001b[0m         )\n\u001b[0;32m   2270\u001b[0m     \u001b[39mreturn\u001b[39;00m \u001b[39mself\u001b[39m\u001b[39m.\u001b[39m_reindex_output(result, fill_value\u001b[39m=\u001b[39m\u001b[39m0\u001b[39m)\n",
      "File \u001b[1;32mc:\\Users\\oscar\\anaconda3\\envs\\dash\\Lib\\site-packages\\pandas\\core\\groupby\\groupby.py:1422\u001b[0m, in \u001b[0;36mGroupBy._agg_general\u001b[1;34m(self, numeric_only, min_count, alias, npfunc)\u001b[0m\n\u001b[0;32m   1413\u001b[0m \u001b[39m@final\u001b[39m\n\u001b[0;32m   1414\u001b[0m \u001b[39mdef\u001b[39;00m \u001b[39m_agg_general\u001b[39m(\n\u001b[0;32m   1415\u001b[0m     \u001b[39mself\u001b[39m,\n\u001b[1;32m   (...)\u001b[0m\n\u001b[0;32m   1420\u001b[0m     npfunc: Callable,\n\u001b[0;32m   1421\u001b[0m ):\n\u001b[1;32m-> 1422\u001b[0m     result \u001b[39m=\u001b[39m \u001b[39mself\u001b[39;49m\u001b[39m.\u001b[39;49m_cython_agg_general(\n\u001b[0;32m   1423\u001b[0m         how\u001b[39m=\u001b[39;49malias,\n\u001b[0;32m   1424\u001b[0m         alt\u001b[39m=\u001b[39;49mnpfunc,\n\u001b[0;32m   1425\u001b[0m         numeric_only\u001b[39m=\u001b[39;49mnumeric_only,\n\u001b[0;32m   1426\u001b[0m         min_count\u001b[39m=\u001b[39;49mmin_count,\n\u001b[0;32m   1427\u001b[0m     )\n\u001b[0;32m   1428\u001b[0m     \u001b[39mreturn\u001b[39;00m result\u001b[39m.\u001b[39m__finalize__(\u001b[39mself\u001b[39m\u001b[39m.\u001b[39mobj, method\u001b[39m=\u001b[39m\u001b[39m\"\u001b[39m\u001b[39mgroupby\u001b[39m\u001b[39m\"\u001b[39m)\n",
      "File \u001b[1;32mc:\\Users\\oscar\\anaconda3\\envs\\dash\\Lib\\site-packages\\pandas\\core\\groupby\\groupby.py:1507\u001b[0m, in \u001b[0;36mGroupBy._cython_agg_general\u001b[1;34m(self, how, alt, numeric_only, min_count, **kwargs)\u001b[0m\n\u001b[0;32m   1503\u001b[0m         result \u001b[39m=\u001b[39m \u001b[39mself\u001b[39m\u001b[39m.\u001b[39m_agg_py_fallback(values, ndim\u001b[39m=\u001b[39mdata\u001b[39m.\u001b[39mndim, alt\u001b[39m=\u001b[39malt)\n\u001b[0;32m   1505\u001b[0m     \u001b[39mreturn\u001b[39;00m result\n\u001b[1;32m-> 1507\u001b[0m new_mgr \u001b[39m=\u001b[39m data\u001b[39m.\u001b[39;49mgrouped_reduce(array_func)\n\u001b[0;32m   1508\u001b[0m res \u001b[39m=\u001b[39m \u001b[39mself\u001b[39m\u001b[39m.\u001b[39m_wrap_agged_manager(new_mgr)\n\u001b[0;32m   1509\u001b[0m out \u001b[39m=\u001b[39m \u001b[39mself\u001b[39m\u001b[39m.\u001b[39m_wrap_aggregated_output(res)\n",
      "File \u001b[1;32mc:\\Users\\oscar\\anaconda3\\envs\\dash\\Lib\\site-packages\\pandas\\core\\internals\\managers.py:1503\u001b[0m, in \u001b[0;36mBlockManager.grouped_reduce\u001b[1;34m(self, func)\u001b[0m\n\u001b[0;32m   1499\u001b[0m \u001b[39mif\u001b[39;00m blk\u001b[39m.\u001b[39mis_object:\n\u001b[0;32m   1500\u001b[0m     \u001b[39m# split on object-dtype blocks bc some columns may raise\u001b[39;00m\n\u001b[0;32m   1501\u001b[0m     \u001b[39m#  while others do not.\u001b[39;00m\n\u001b[0;32m   1502\u001b[0m     \u001b[39mfor\u001b[39;00m sb \u001b[39min\u001b[39;00m blk\u001b[39m.\u001b[39m_split():\n\u001b[1;32m-> 1503\u001b[0m         applied \u001b[39m=\u001b[39m sb\u001b[39m.\u001b[39;49mapply(func)\n\u001b[0;32m   1504\u001b[0m         result_blocks \u001b[39m=\u001b[39m extend_blocks(applied, result_blocks)\n\u001b[0;32m   1505\u001b[0m \u001b[39melse\u001b[39;00m:\n",
      "File \u001b[1;32mc:\\Users\\oscar\\anaconda3\\envs\\dash\\Lib\\site-packages\\pandas\\core\\internals\\blocks.py:329\u001b[0m, in \u001b[0;36mBlock.apply\u001b[1;34m(self, func, **kwargs)\u001b[0m\n\u001b[0;32m    323\u001b[0m \u001b[39m@final\u001b[39m\n\u001b[0;32m    324\u001b[0m \u001b[39mdef\u001b[39;00m \u001b[39mapply\u001b[39m(\u001b[39mself\u001b[39m, func, \u001b[39m*\u001b[39m\u001b[39m*\u001b[39mkwargs) \u001b[39m-\u001b[39m\u001b[39m>\u001b[39m \u001b[39mlist\u001b[39m[Block]:\n\u001b[0;32m    325\u001b[0m \u001b[39m    \u001b[39m\u001b[39m\"\"\"\u001b[39;00m\n\u001b[0;32m    326\u001b[0m \u001b[39m    apply the function to my values; return a block if we are not\u001b[39;00m\n\u001b[0;32m    327\u001b[0m \u001b[39m    one\u001b[39;00m\n\u001b[0;32m    328\u001b[0m \u001b[39m    \"\"\"\u001b[39;00m\n\u001b[1;32m--> 329\u001b[0m     result \u001b[39m=\u001b[39m func(\u001b[39mself\u001b[39;49m\u001b[39m.\u001b[39;49mvalues, \u001b[39m*\u001b[39;49m\u001b[39m*\u001b[39;49mkwargs)\n\u001b[0;32m    331\u001b[0m     \u001b[39mreturn\u001b[39;00m \u001b[39mself\u001b[39m\u001b[39m.\u001b[39m_split_op_result(result)\n",
      "File \u001b[1;32mc:\\Users\\oscar\\anaconda3\\envs\\dash\\Lib\\site-packages\\pandas\\core\\groupby\\groupby.py:1490\u001b[0m, in \u001b[0;36mGroupBy._cython_agg_general.<locals>.array_func\u001b[1;34m(values)\u001b[0m\n\u001b[0;32m   1488\u001b[0m \u001b[39mdef\u001b[39;00m \u001b[39marray_func\u001b[39m(values: ArrayLike) \u001b[39m-\u001b[39m\u001b[39m>\u001b[39m ArrayLike:\n\u001b[0;32m   1489\u001b[0m     \u001b[39mtry\u001b[39;00m:\n\u001b[1;32m-> 1490\u001b[0m         result \u001b[39m=\u001b[39m \u001b[39mself\u001b[39;49m\u001b[39m.\u001b[39;49mgrouper\u001b[39m.\u001b[39;49m_cython_operation(\n\u001b[0;32m   1491\u001b[0m             \u001b[39m\"\u001b[39;49m\u001b[39maggregate\u001b[39;49m\u001b[39m\"\u001b[39;49m,\n\u001b[0;32m   1492\u001b[0m             values,\n\u001b[0;32m   1493\u001b[0m             how,\n\u001b[0;32m   1494\u001b[0m             axis\u001b[39m=\u001b[39;49mdata\u001b[39m.\u001b[39;49mndim \u001b[39m-\u001b[39;49m \u001b[39m1\u001b[39;49m,\n\u001b[0;32m   1495\u001b[0m             min_count\u001b[39m=\u001b[39;49mmin_count,\n\u001b[0;32m   1496\u001b[0m             \u001b[39m*\u001b[39;49m\u001b[39m*\u001b[39;49mkwargs,\n\u001b[0;32m   1497\u001b[0m         )\n\u001b[0;32m   1498\u001b[0m     \u001b[39mexcept\u001b[39;00m \u001b[39mNotImplementedError\u001b[39;00m:\n\u001b[0;32m   1499\u001b[0m         \u001b[39m# generally if we have numeric_only=False\u001b[39;00m\n\u001b[0;32m   1500\u001b[0m         \u001b[39m# and non-applicable functions\u001b[39;00m\n\u001b[0;32m   1501\u001b[0m         \u001b[39m# try to python agg\u001b[39;00m\n\u001b[0;32m   1502\u001b[0m         \u001b[39m# TODO: shouldn't min_count matter?\u001b[39;00m\n\u001b[0;32m   1503\u001b[0m         result \u001b[39m=\u001b[39m \u001b[39mself\u001b[39m\u001b[39m.\u001b[39m_agg_py_fallback(values, ndim\u001b[39m=\u001b[39mdata\u001b[39m.\u001b[39mndim, alt\u001b[39m=\u001b[39malt)\n",
      "File \u001b[1;32mc:\\Users\\oscar\\anaconda3\\envs\\dash\\Lib\\site-packages\\pandas\\core\\groupby\\ops.py:959\u001b[0m, in \u001b[0;36mBaseGrouper._cython_operation\u001b[1;34m(self, kind, values, how, axis, min_count, **kwargs)\u001b[0m\n\u001b[0;32m    957\u001b[0m ids, _, _ \u001b[39m=\u001b[39m \u001b[39mself\u001b[39m\u001b[39m.\u001b[39mgroup_info\n\u001b[0;32m    958\u001b[0m ngroups \u001b[39m=\u001b[39m \u001b[39mself\u001b[39m\u001b[39m.\u001b[39mngroups\n\u001b[1;32m--> 959\u001b[0m \u001b[39mreturn\u001b[39;00m cy_op\u001b[39m.\u001b[39;49mcython_operation(\n\u001b[0;32m    960\u001b[0m     values\u001b[39m=\u001b[39;49mvalues,\n\u001b[0;32m    961\u001b[0m     axis\u001b[39m=\u001b[39;49maxis,\n\u001b[0;32m    962\u001b[0m     min_count\u001b[39m=\u001b[39;49mmin_count,\n\u001b[0;32m    963\u001b[0m     comp_ids\u001b[39m=\u001b[39;49mids,\n\u001b[0;32m    964\u001b[0m     ngroups\u001b[39m=\u001b[39;49mngroups,\n\u001b[0;32m    965\u001b[0m     \u001b[39m*\u001b[39;49m\u001b[39m*\u001b[39;49mkwargs,\n\u001b[0;32m    966\u001b[0m )\n",
      "File \u001b[1;32mc:\\Users\\oscar\\anaconda3\\envs\\dash\\Lib\\site-packages\\pandas\\core\\groupby\\ops.py:657\u001b[0m, in \u001b[0;36mWrappedCythonOp.cython_operation\u001b[1;34m(self, values, axis, min_count, comp_ids, ngroups, **kwargs)\u001b[0m\n\u001b[0;32m    647\u001b[0m \u001b[39mif\u001b[39;00m \u001b[39mnot\u001b[39;00m \u001b[39misinstance\u001b[39m(values, np\u001b[39m.\u001b[39mndarray):\n\u001b[0;32m    648\u001b[0m     \u001b[39m# i.e. ExtensionArray\u001b[39;00m\n\u001b[0;32m    649\u001b[0m     \u001b[39mreturn\u001b[39;00m \u001b[39mself\u001b[39m\u001b[39m.\u001b[39m_ea_wrap_cython_operation(\n\u001b[0;32m    650\u001b[0m         values,\n\u001b[0;32m    651\u001b[0m         min_count\u001b[39m=\u001b[39mmin_count,\n\u001b[1;32m   (...)\u001b[0m\n\u001b[0;32m    654\u001b[0m         \u001b[39m*\u001b[39m\u001b[39m*\u001b[39mkwargs,\n\u001b[0;32m    655\u001b[0m     )\n\u001b[1;32m--> 657\u001b[0m \u001b[39mreturn\u001b[39;00m \u001b[39mself\u001b[39;49m\u001b[39m.\u001b[39;49m_cython_op_ndim_compat(\n\u001b[0;32m    658\u001b[0m     values,\n\u001b[0;32m    659\u001b[0m     min_count\u001b[39m=\u001b[39;49mmin_count,\n\u001b[0;32m    660\u001b[0m     ngroups\u001b[39m=\u001b[39;49mngroups,\n\u001b[0;32m    661\u001b[0m     comp_ids\u001b[39m=\u001b[39;49mcomp_ids,\n\u001b[0;32m    662\u001b[0m     mask\u001b[39m=\u001b[39;49m\u001b[39mNone\u001b[39;49;00m,\n\u001b[0;32m    663\u001b[0m     \u001b[39m*\u001b[39;49m\u001b[39m*\u001b[39;49mkwargs,\n\u001b[0;32m    664\u001b[0m )\n",
      "File \u001b[1;32mc:\\Users\\oscar\\anaconda3\\envs\\dash\\Lib\\site-packages\\pandas\\core\\groupby\\ops.py:497\u001b[0m, in \u001b[0;36mWrappedCythonOp._cython_op_ndim_compat\u001b[1;34m(self, values, min_count, ngroups, comp_ids, mask, result_mask, **kwargs)\u001b[0m\n\u001b[0;32m    494\u001b[0m     \u001b[39m# otherwise we have OHLC\u001b[39;00m\n\u001b[0;32m    495\u001b[0m     \u001b[39mreturn\u001b[39;00m res\u001b[39m.\u001b[39mT\n\u001b[1;32m--> 497\u001b[0m \u001b[39mreturn\u001b[39;00m \u001b[39mself\u001b[39;49m\u001b[39m.\u001b[39;49m_call_cython_op(\n\u001b[0;32m    498\u001b[0m     values,\n\u001b[0;32m    499\u001b[0m     min_count\u001b[39m=\u001b[39;49mmin_count,\n\u001b[0;32m    500\u001b[0m     ngroups\u001b[39m=\u001b[39;49mngroups,\n\u001b[0;32m    501\u001b[0m     comp_ids\u001b[39m=\u001b[39;49mcomp_ids,\n\u001b[0;32m    502\u001b[0m     mask\u001b[39m=\u001b[39;49mmask,\n\u001b[0;32m    503\u001b[0m     result_mask\u001b[39m=\u001b[39;49mresult_mask,\n\u001b[0;32m    504\u001b[0m     \u001b[39m*\u001b[39;49m\u001b[39m*\u001b[39;49mkwargs,\n\u001b[0;32m    505\u001b[0m )\n",
      "File \u001b[1;32mc:\\Users\\oscar\\anaconda3\\envs\\dash\\Lib\\site-packages\\pandas\\core\\groupby\\ops.py:549\u001b[0m, in \u001b[0;36mWrappedCythonOp._call_cython_op\u001b[1;34m(self, values, min_count, ngroups, comp_ids, mask, result_mask, **kwargs)\u001b[0m\n\u001b[0;32m    547\u001b[0m counts \u001b[39m=\u001b[39m np\u001b[39m.\u001b[39mzeros(ngroups, dtype\u001b[39m=\u001b[39mnp\u001b[39m.\u001b[39mint64)\n\u001b[0;32m    548\u001b[0m \u001b[39mif\u001b[39;00m \u001b[39mself\u001b[39m\u001b[39m.\u001b[39mhow \u001b[39min\u001b[39;00m [\u001b[39m\"\u001b[39m\u001b[39mmin\u001b[39m\u001b[39m\"\u001b[39m, \u001b[39m\"\u001b[39m\u001b[39mmax\u001b[39m\u001b[39m\"\u001b[39m, \u001b[39m\"\u001b[39m\u001b[39mmean\u001b[39m\u001b[39m\"\u001b[39m, \u001b[39m\"\u001b[39m\u001b[39mlast\u001b[39m\u001b[39m\"\u001b[39m, \u001b[39m\"\u001b[39m\u001b[39mfirst\u001b[39m\u001b[39m\"\u001b[39m, \u001b[39m\"\u001b[39m\u001b[39msum\u001b[39m\u001b[39m\"\u001b[39m]:\n\u001b[1;32m--> 549\u001b[0m     func(\n\u001b[0;32m    550\u001b[0m         out\u001b[39m=\u001b[39;49mresult,\n\u001b[0;32m    551\u001b[0m         counts\u001b[39m=\u001b[39;49mcounts,\n\u001b[0;32m    552\u001b[0m         values\u001b[39m=\u001b[39;49mvalues,\n\u001b[0;32m    553\u001b[0m         labels\u001b[39m=\u001b[39;49mcomp_ids,\n\u001b[0;32m    554\u001b[0m         min_count\u001b[39m=\u001b[39;49mmin_count,\n\u001b[0;32m    555\u001b[0m         mask\u001b[39m=\u001b[39;49mmask,\n\u001b[0;32m    556\u001b[0m         result_mask\u001b[39m=\u001b[39;49mresult_mask,\n\u001b[0;32m    557\u001b[0m         is_datetimelike\u001b[39m=\u001b[39;49mis_datetimelike,\n\u001b[0;32m    558\u001b[0m     )\n\u001b[0;32m    559\u001b[0m \u001b[39melif\u001b[39;00m \u001b[39mself\u001b[39m\u001b[39m.\u001b[39mhow \u001b[39min\u001b[39;00m [\u001b[39m\"\u001b[39m\u001b[39mvar\u001b[39m\u001b[39m\"\u001b[39m, \u001b[39m\"\u001b[39m\u001b[39mohlc\u001b[39m\u001b[39m\"\u001b[39m, \u001b[39m\"\u001b[39m\u001b[39mprod\u001b[39m\u001b[39m\"\u001b[39m, \u001b[39m\"\u001b[39m\u001b[39mmedian\u001b[39m\u001b[39m\"\u001b[39m]:\n\u001b[0;32m    560\u001b[0m     func(\n\u001b[0;32m    561\u001b[0m         result,\n\u001b[0;32m    562\u001b[0m         counts,\n\u001b[1;32m   (...)\u001b[0m\n\u001b[0;32m    568\u001b[0m         \u001b[39m*\u001b[39m\u001b[39m*\u001b[39mkwargs,\n\u001b[0;32m    569\u001b[0m     )\n",
      "File \u001b[1;32mc:\\Users\\oscar\\anaconda3\\envs\\dash\\Lib\\site-packages\\pandas\\_libs\\groupby.pyx:717\u001b[0m, in \u001b[0;36mpandas._libs.groupby.group_sum\u001b[1;34m()\u001b[0m\n",
      "\u001b[1;31mTypeError\u001b[0m: unsupported operand type(s) for +: 'datetime.time' and 'datetime.time'"
     ]
    }
   ],
   "source": [
    "print(df2.groupby([\"Client\", \"Project\", \"Description\"]).sum())"
   ]
  }
 ],
 "metadata": {
  "kernelspec": {
   "display_name": "dash",
   "language": "python",
   "name": "python3"
  },
  "language_info": {
   "codemirror_mode": {
    "name": "ipython",
    "version": 3
   },
   "file_extension": ".py",
   "mimetype": "text/x-python",
   "name": "python",
   "nbconvert_exporter": "python",
   "pygments_lexer": "ipython3",
   "version": "3.11.4"
  },
  "orig_nbformat": 4
 },
 "nbformat": 4,
 "nbformat_minor": 2
}
