{
 "cells": [
  {
   "cell_type": "markdown",
   "metadata": {},
   "source": [
    "## Monthly Accounting"
   ]
  },
  {
   "cell_type": "code",
   "execution_count": 16,
   "metadata": {},
   "outputs": [],
   "source": [
    "# General Libraries\n",
    "\n",
    "import os\n",
    "from bs4 import BeautifulSoup\n",
    "import requests\n",
    "import pymongo\n",
    "import re"
   ]
  },
  {
   "cell_type": "code",
   "execution_count": 38,
   "metadata": {},
   "outputs": [],
   "source": [
    "# Selenium Connection\n",
    "\n",
    "from selenium import webdriver\n",
    "from selenium.webdriver.chrome.service import Service\n",
    "\n",
    "service = Service(executable_path='r/chromedriver')\n",
    "options = webdriver.ChromeOptions()\n",
    "# options.add_argument('--headless')\n",
    "options.add_argument('--no-sandbox')\n",
    "options.add_argument('--disable-dev-shm-usage')\n",
    "driver = webdriver.Chrome(service=service, options=options)\n",
    "\n",
    "from selenium.webdriver.common.keys import Keys\n",
    "from selenium.webdriver.common.by import By\n",
    "from selenium.webdriver.common.action_chains import ActionChains\n",
    "from selenium.webdriver.support.ui import Select\n",
    "from selenium.webdriver.support.ui import WebDriverWait\n",
    "from selenium.webdriver.support import expected_conditions as EC\n",
    "\n",
    "# url = \"https://www.khanacademy.org/math/probability/xa88397b6:display-quantitative/xa88397b6:frequency-tables-dot-plots/v/frequency-tables-and-dot-plots\"\n",
    "url = \"https://track.toggl.com/\"\n",
    "driver.get(url)\n"
   ]
  },
  {
   "cell_type": "code",
   "execution_count": 3,
   "metadata": {},
   "outputs": [
    {
     "name": "stdout",
     "output_type": "stream",
     "text": [
      "Ok\n"
     ]
    }
   ],
   "source": [
    "# Get Gmail Account and Password\n",
    "\n",
    "email = input(\"Google Account:\")\n",
    "password = input(\"Google Password:\")\n",
    "print('Ok')"
   ]
  },
  {
   "cell_type": "code",
   "execution_count": 40,
   "metadata": {},
   "outputs": [
    {
     "name": "stdout",
     "output_type": "stream",
     "text": [
      "Message: element not interactable\n",
      "  (Session info: chrome=115.0.5790.171)\n",
      "Stacktrace:\n",
      "Backtrace:\n",
      "\tGetHandleVerifier [0x00C5A813+48355]\n",
      "\t(No symbol) [0x00BEC4B1]\n",
      "\t(No symbol) [0x00AF5220]\n",
      "\t(No symbol) [0x00B1D046]\n",
      "\t(No symbol) [0x00B1C8B1]\n",
      "\t(No symbol) [0x00B3A73C]\n",
      "\t(No symbol) [0x00B19A36]\n",
      "\t(No symbol) [0x00B3AA94]\n",
      "\t(No symbol) [0x00B4C922]\n",
      "\t(No symbol) [0x00B3A536]\n",
      "\t(No symbol) [0x00B182DC]\n",
      "\t(No symbol) [0x00B193DD]\n",
      "\tGetHandleVerifier [0x00EBAABD+2539405]\n",
      "\tGetHandleVerifier [0x00EFA78F+2800735]\n",
      "\tGetHandleVerifier [0x00EF456C+2775612]\n",
      "\tGetHandleVerifier [0x00CE51E0+616112]\n",
      "\t(No symbol) [0x00BF5F8C]\n",
      "\t(No symbol) [0x00BF2328]\n",
      "\t(No symbol) [0x00BF240B]\n",
      "\t(No symbol) [0x00BE4FF7]\n",
      "\tBaseThreadInitThunk [0x762400C9+25]\n",
      "\tRtlGetAppContainerNamedObjectPath [0x77517B1E+286]\n",
      "\tRtlGetAppContainerNamedObjectPath [0x77517AEE+238]\n",
      "\n"
     ]
    }
   ],
   "source": [
    "driver.find_element(By.CSS_SELECTOR, '.css-154ozm6-SocialLogin').click()\n",
    "\n",
    "email_field = WebDriverWait(driver,10).until(\n",
    "   EC.presence_of_element_located((By.ID, 'identifierId'))\n",
    ")\n",
    "email_field.send_keys(email)\n",
    "email_field.send_keys(Keys.RETURN)\n",
    "\n",
    "try:\n",
    "\n",
    "   password_field = WebDriverWait(driver, 10).until(\n",
    "      # EC.presence_of_element_located((By.CSS_SELECTOR, 'input[type=\"password\"]'))\n",
    "      EC.presence_of_element_located((By.CSS_SELECTOR, 'input[name=\"Passwd\"]'))\n",
    "      # https://www.selenium.dev/documentation/webdriver/troubleshooting/errors/#stale-element-reference-exception\n",
    "      # https://stackoverflow.com/questions/66209119/automation-google-login-with-python-and-selenium-shows-this-browser-or-app-may\n",
    "   )\n",
    "   password_field.send_keys(password)\n",
    "   password_field.send_keys(Keys.RETURN)\n",
    "\n",
    "except Exception as error:\n",
    "   print(error)\n",
    "\n"
   ]
  },
  {
   "cell_type": "code",
   "execution_count": 32,
   "metadata": {},
   "outputs": [],
   "source": [
    "password_field = WebDriverWait(driver, 10).until(\n",
    "   EC.presence_of_element_located((By.CSS_SELECTOR, 'input[type=\"password\"]'))\n",
    ")\n",
    "password_field.send_keys(password)\n",
    "password_field.send_keys(Keys.RETURN)"
   ]
  },
  {
   "cell_type": "code",
   "execution_count": 26,
   "metadata": {},
   "outputs": [],
   "source": [
    "password_field = WebDriverWait(driver, 10).until(\n",
    "   EC.presence_of_element_located((By.CSS_SELECTOR, 'input[type=\"password\"]'))\n",
    ")\n",
    "password_field.send_keys(password)\n",
    "email_field.send_keys(Keys.RETURN)\n",
    "\n",
    "# print(type(password_field))"
   ]
  },
  {
   "cell_type": "code",
   "execution_count": null,
   "metadata": {},
   "outputs": [],
   "source": [
    "\n",
    "# https://stackoverflow.com/questions/8344776/can-selenium-interact-with-an-existing-browser-session\n",
    "# https://pythonexamples.org/python-selenium-find-element-by-class-name/\n",
    "# https://www.geeksforgeeks.org/gmail-login-using-python-selenium/\n",
    "find_element(By.CLASS_NAME, \"class_name_value\")"
   ]
  }
 ],
 "metadata": {
  "kernelspec": {
   "display_name": "dash",
   "language": "python",
   "name": "python3"
  },
  "language_info": {
   "codemirror_mode": {
    "name": "ipython",
    "version": 3
   },
   "file_extension": ".py",
   "mimetype": "text/x-python",
   "name": "python",
   "nbconvert_exporter": "python",
   "pygments_lexer": "ipython3",
   "version": "3.11.4"
  },
  "orig_nbformat": 4
 },
 "nbformat": 4,
 "nbformat_minor": 2
}
