{
 "cells": [
  {
   "cell_type": "markdown",
   "metadata": {},
   "source": [
    "## Monthly Accounting"
   ]
  },
  {
   "cell_type": "code",
   "execution_count": 33,
   "metadata": {},
   "outputs": [],
   "source": [
    "# General Libraries\n",
    "\n",
    "import os\n",
    "from bs4 import BeautifulSoup\n",
    "import requests\n",
    "import pymongo\n",
    "import re\n",
    "import json\n",
    "\n",
    "# Cryptography Library\n",
    "from cryptography.fernet import Fernet"
   ]
  },
  {
   "cell_type": "code",
   "execution_count": null,
   "metadata": {},
   "outputs": [],
   "source": [
    "# Selenium Connection - PREVIOUS VERSION\n",
    "\n",
    "# from selenium import webdriver\n",
    "# from selenium.webdriver.chrome.service import Service\n",
    "\n",
    "# service = Service(executable_path='r/chromedriver')\n",
    "# options = webdriver.ChromeOptions()\n",
    "# # options.add_argument('--headless')\n",
    "# options.add_argument('--no-sandbox')\n",
    "# options.add_argument('--disable-dev-shm-usage')\n",
    "# driver = webdriver.Chrome(service=service, options=options)\n",
    "\n",
    "# from selenium.webdriver.common.keys import Keys\n",
    "# from selenium.webdriver.common.by import By\n",
    "# from selenium.webdriver.common.action_chains import ActionChains\n",
    "# from selenium.webdriver.support.ui import Select\n",
    "# from selenium.webdriver.support.ui import WebDriverWait\n",
    "# from selenium.webdriver.support import expected_conditions as EC\n",
    "\n",
    "# url = \"https://track.toggl.com/\"\n",
    "# driver.get(url)\n"
   ]
  },
  {
   "cell_type": "code",
   "execution_count": 35,
   "metadata": {},
   "outputs": [
    {
     "name": "stdout",
     "output_type": "stream",
     "text": [
      "Olá Elaine,\n",
      "\n",
      "Em anexo a Nota de Débito do Mailchimp deste mês.\n",
      "\n",
      "Oscar\n"
     ]
    }
   ],
   "source": [
    "# Load Script Parameters\n",
    "\n",
    "# Code References\n",
    "    # https://www.scaler.com/topics/how-to-open-json-file-in-python/\n",
    "    # https://bobbyhadz.com/blog/python-assign-dictionary-value-to-variable#assign-dictionary-key-value-pairs-to-variables-in-python\n",
    "\n",
    "# Open json file with the parameters\n",
    "with open(\"Monthly-Accounting-Params.json\", \"r\") as file:\n",
    "    jsonData = json.load(file)\n",
    "# print(\"Datatype of variable: \", type(jsonData))\n",
    "\n",
    "# Initiate variables\n",
    "locals().update(jsonData['crypto'])\n",
    "locals().update(jsonData['toggl'])\n",
    "locals().update(jsonData['mail'])\n",
    "\n",
    "# Decode passwords\n",
    "key = bytes(pwd_key, 'utf-8')\n",
    "fernet = Fernet(key)\n",
    "\n",
    "mail_password = fernet.decrypt(bytes(mail_password, 'utf-8')).decode()\n",
    "\n",
    "print(nd_mail_body)"
   ]
  },
  {
   "cell_type": "code",
   "execution_count": 26,
   "metadata": {},
   "outputs": [],
   "source": [
    "# Connect to Google Driver\n",
    "# Source: # https://stackoverflow.com/questions/66209119/automation-google-login-with-python-and-selenium-shows-this-browser-or-app-may\n",
    "\n",
    "import undetected_chromedriver as uc\n",
    "\n",
    "from selenium.webdriver.common.keys import Keys\n",
    "from selenium.webdriver.common.by import By\n",
    "from selenium.webdriver.common.action_chains import ActionChains\n",
    "from selenium.webdriver.support.ui import Select\n",
    "from selenium.webdriver.support.ui import WebDriverWait\n",
    "from selenium.webdriver.support import expected_conditions as EC\n",
    "\n",
    "# Options\n",
    "options = uc.ChromeOptions()\n",
    "# options.add_argument('--headless')\n",
    "options.add_argument('--no-sandbox')\n",
    "options.add_argument('--disable-dev-shm-usage')\n",
    "prefs = {'download.default_directory' : 'D:\\\\Primeway\\\\Primeway\\\\Administração\\\\Planejamento Diário\\\\Toggl'}\n",
    "options.add_experimental_option('prefs', prefs)\n",
    "\n",
    "# chrome_options = webdriver.ChromeOptions()\n",
    "# prefs = {'download.default_directory' : '/path/to/dir'}\n",
    "# chrome_options.add_experimental_option('prefs', prefs)\n",
    "# driver = webdriver.Chrome(chrome_options=chrome_options)\n",
    "\n",
    "driver = uc.Chrome(use_subprocess=True, options=options)\n",
    "driver.get(\"https://track.toggl.com/\")"
   ]
  },
  {
   "cell_type": "code",
   "execution_count": 4,
   "metadata": {},
   "outputs": [
    {
     "name": "stdout",
     "output_type": "stream",
     "text": [
      "Ok\n"
     ]
    }
   ],
   "source": [
    "# Get Gmail Account and Password\n",
    "\n",
    "email = input(\"Google Account:\")\n",
    "password = input(\"Google Password:\")\n",
    "print('Ok')"
   ]
  },
  {
   "cell_type": "code",
   "execution_count": 27,
   "metadata": {},
   "outputs": [],
   "source": [
    "# Google Login\n",
    "\n",
    "try:\n",
    "\n",
    "   driver.find_element(By.CSS_SELECTOR, '.css-154ozm6-SocialLogin').click()\n",
    "\n",
    "   email_field = WebDriverWait(driver,20).until(\n",
    "      EC.presence_of_element_located((By.ID, 'identifierId'))\n",
    "   )\n",
    "   email_field.send_keys(email)\n",
    "   email_field.send_keys(Keys.RETURN)\n",
    "   \n",
    "   driver.implicitly_wait(10)\n",
    "   \n",
    "   password_field = WebDriverWait(driver, 20).until(\n",
    "      EC.presence_of_element_located((By.CSS_SELECTOR, 'input[name=\"Passwd\"]'))\n",
    "   )\n",
    "   password_field.send_keys(password)\n",
    "   password_field.send_keys(Keys.RETURN)\n",
    "\n",
    "   # driver.get('https://track.toggl.com/reports/detailed/1891953/period/prevMonth')\n",
    "   \n",
    "except Exception as error:\n",
    "   print(error)"
   ]
  },
  {
   "cell_type": "code",
   "execution_count": 28,
   "metadata": {},
   "outputs": [],
   "source": [
    "# Go to Previous Month Report Page\n",
    "\n",
    "driver.get('https://track.toggl.com/reports/detailed/1891953/period/prevMonth')\n",
    "\n",
    "# Click the download CSV link\n",
    "elem = WebDriverWait(driver, 10).until(\n",
    "   EC.presence_of_element_located((By.CSS_SELECTOR, '.css-4jnc92-Button-button-button-bodyText-PlainButton-EnhancedPlainButton'))\n",
    ")\n",
    "elem.click()\n",
    "elem = WebDriverWait(driver, 10).until(\n",
    "   EC.presence_of_element_located((By.CSS_SELECTOR, '.css-2gl5op-ListItem-listItemStyles-EnhancedListItem'))\n",
    ")\n",
    "elem.click()\n",
    "\n",
    "# Download CSV file to a specific folder\n",
    "# https://www.geeksforgeeks.org/download-file-in-selenium-using-python/\n",
    "# https://stackoverflow.com/questions/35331854/downloading-a-file-at-a-specified-location-through-python-and-selenium-using-chr\n",
    "\n",
    "\n",
    "# driver.find_element(By.CSS_SELECTOR, 'a[data-heap-id=\"side-nav-link-reports\"]').click()"
   ]
  },
  {
   "cell_type": "code",
   "execution_count": 12,
   "metadata": {},
   "outputs": [],
   "source": [
    "\n",
    "\n",
    "# Click the download CSV link\n",
    "elem = WebDriverWait(driver, 10).until(\n",
    "   EC.presence_of_element_located((By.CSS_SELECTOR, '.css-4jnc92-Button-button-button-bodyText-PlainButton-EnhancedPlainButton'))\n",
    ")\n",
    "elem.click()\n",
    "elem = WebDriverWait(driver, 10).until(\n",
    "   EC.presence_of_element_located((By.CSS_SELECTOR, '.css-2gl5op-ListItem-listItemStyles-EnhancedListItem'))\n",
    ")\n",
    "elem.click()\n",
    "# driver.find_element(By.CSS_SELECTOR, '')\n",
    "# driver.find_element(By.CSS_SELECTOR, '').click()\n",
    "\n"
   ]
  }
 ],
 "metadata": {
  "kernelspec": {
   "display_name": "dash",
   "language": "python",
   "name": "python3"
  },
  "language_info": {
   "codemirror_mode": {
    "name": "ipython",
    "version": 3
   },
   "file_extension": ".py",
   "mimetype": "text/x-python",
   "name": "python",
   "nbconvert_exporter": "python",
   "pygments_lexer": "ipython3",
   "version": "3.11.4"
  },
  "orig_nbformat": 4
 },
 "nbformat": 4,
 "nbformat_minor": 2
}
