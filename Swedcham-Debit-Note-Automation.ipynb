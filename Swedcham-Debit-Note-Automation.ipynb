{
 "cells": [
  {
   "cell_type": "markdown",
   "metadata": {},
   "source": [
    "## Swedcham Debit Note Automation"
   ]
  },
  {
   "cell_type": "markdown",
   "metadata": {},
   "source": [
    "1. Read American Credit Card Invoice\n",
    "2. Gather all needed pieces of information\n",
    "3. Create a new Word File with the current Debit Note\n",
    "4. Generate a PDF from the Word File\n",
    "5. Send a mail to Swedcham"
   ]
  },
  {
   "cell_type": "markdown",
   "metadata": {},
   "source": [
    "#### 1. Read American Credit Card Invoice"
   ]
  },
  {
   "cell_type": "code",
   "execution_count": 22,
   "metadata": {},
   "outputs": [],
   "source": [
    "# Import Libraries\n",
    "import PyPDF2\n",
    "from docxtpl import DocxTemplate\n",
    "import datetime\n",
    "import os\n",
    "import re\n",
    "import datetime\n",
    "import locale\n",
    "import json"
   ]
  },
  {
   "cell_type": "code",
   "execution_count": 25,
   "metadata": {},
   "outputs": [],
   "source": [
    "# Define Script Variables\n",
    "\n",
    "# Get American Credit Card Invoice folder\n",
    "cc_folder = 'D:\\\\Primeway\\\\Users Pw\\\\Oscar.Carvalho\\\\Contas\\\\Cartões de Crédito\\\\American\\\\'\n",
    "cc_pass = 'LaylaLaylaLayla'\n",
    "\n",
    "# Get Destination Folder and Template\n",
    "nd_folder = 'D:\\\\Primeway\\\\Primeway\\\\Administração\\\\Contas a Receber\\\\Nota de Débito\\\\'\n",
    "nd_template = 'Primeway - Nota de Débito - Template.docx'\n",
    "nd_filename = \"Primeway - Nota de Débito {} - {}-{}.docx\"\n",
    "nd_recipient = 'elaine@swedcham.com.br'\n",
    "nd_sender = 'oscar@primeway.com.br'\n",
    "\n",
    "# Charge parameters\n",
    "nd_desc_template = \"Plano Mensal MAILCHIMP - US$ {} (cotação R$ {} + 6,38% IOF + Comissão 10%)\"\n",
    "nd_IOF = 0.0638\n",
    "nd_comission = 0.1\n"
   ]
  },
  {
   "cell_type": "code",
   "execution_count": 4,
   "metadata": {},
   "outputs": [
    {
     "name": "stdout",
     "output_type": "stream",
     "text": [
      "D:\\Primeway\\Users Pw\\Oscar.Carvalho\\Contas\\Cartões de Crédito\\American\\2023\\\n",
      "2023-07-Extrato-American-Bradesco.pdf\n"
     ]
    }
   ],
   "source": [
    "# Get last invoice file name\n",
    "\n",
    "# Get current year\n",
    "today = datetime.date.today()\n",
    "year = str(today.year)\n",
    "# print(year)\n",
    "\n",
    "path = cc_folder + year + '\\\\'\n",
    "\n",
    "file_list = [entry.name for entry in os.scandir(path) if entry.name[0:4] == year]\n",
    "filename = file_list[len(file_list)-1]\n",
    "\n",
    "print(path)\n",
    "print(filename)"
   ]
  },
  {
   "cell_type": "code",
   "execution_count": 5,
   "metadata": {},
   "outputs": [
    {
     "name": "stdout",
     "output_type": "stream",
     "text": [
      "19/06/2023 MAILCHIMP 55.00 USD 55.00 5.0300 276.65\n",
      "\n"
     ]
    }
   ],
   "source": [
    "# Open PDF file and get Mailchimp line\n",
    "filename = '2023-07-Extrato-American-Bradesco.pdf'\n",
    "\n",
    "with open(path + filename, 'rb') as obj:\n",
    "   pdfReader = PyPDF2.PdfReader(obj)\n",
    "   if pdfReader.is_encrypted:\n",
    "      pdfReader.decrypt(cc_pass)\n",
    "   page_txt = pdfReader.pages[0].extract_text()\n",
    "\n",
    "pattern = '[0-9]+/[0-9]+/[0-9]+.+' + 'MAILCHIMP.+' + '\\\\n'\n",
    "mailchimp_line = re.search(pattern, page_txt)\n",
    "if (not mailchimp_line == None):\n",
    "   mailchimp_line = mailchimp_line.group().replace(',', '.')\n",
    "   print(mailchimp_line)\n",
    "else:\n",
    "   print('Mailchimp line not found!')"
   ]
  },
  {
   "cell_type": "markdown",
   "metadata": {},
   "source": [
    "#### 2. Gather all needed pieces of information"
   ]
  },
  {
   "cell_type": "code",
   "execution_count": 6,
   "metadata": {},
   "outputs": [
    {
     "name": "stdout",
     "output_type": "stream",
     "text": [
      "Plano Mensal MAILCHIMP - US$ 55,00 (cotação R$ 5,03 + 6,38% IOF + Comissão 10%)\n",
      "28 de julho de 2023\n"
     ]
    }
   ],
   "source": [
    "# Get most of the context variables from CC PDF\n",
    "\n",
    "locale.setlocale(locale.LC_ALL, 'pt_BR')\n",
    "\n",
    "items = re.split('[\\s|\\\\n]', mailchimp_line)\n",
    "nd_date_of_charge = items[0]\n",
    "nd_value_usd      = items[4]\n",
    "nd_value_brlusd   = items[5]\n",
    "nd_value_brl      = items[6]\n",
    "\n",
    "# Calc totals\n",
    "nd_amount = round(float(nd_value_usd) * float(nd_value_brlusd) * (1 + nd_IOF) * (1 + nd_comission), 2)\n",
    "nd_amount = str(nd_amount).replace('.', ',')\n",
    "\n",
    "# Format values\n",
    "nd_value_usd    = str(nd_value_usd).replace('.', ',')\n",
    "nd_value_brlusd = str(round(float(nd_value_brlusd), 2)).replace('.', ',')\n",
    "\n",
    "nd_description = nd_desc_template.format(nd_value_usd, nd_value_brlusd)\n",
    "print(nd_description)\n",
    "\n",
    "# Get current date\n",
    "nd_current_date = datetime.date.today().strftime(\"%d de %B de %Y\")\n",
    "print(nd_current_date)\n"
   ]
  },
  {
   "cell_type": "code",
   "execution_count": 9,
   "metadata": {},
   "outputs": [
    {
     "name": "stdout",
     "output_type": "stream",
     "text": [
      "2023-06-19 00:00:00\n",
      "31/07/2023\n"
     ]
    }
   ],
   "source": [
    "# Get due date\n",
    "\n",
    "# Get date object from date of charge\n",
    "date_obj = datetime.datetime.strptime(nd_date_of_charge, '%d/%m/%Y')\n",
    "print(date_obj)\n",
    "# # Calc due date\n",
    "nd_due_date = date_obj.replace(day=1) + datetime.timedelta(days=31*2)\n",
    "nd_due_date = nd_due_date - datetime.timedelta(days=nd_due_date.day)\n",
    "\n",
    "# Format Due Date\n",
    "nd_due_date = nd_due_date.strftime(\"%d/%m/%Y\")\n",
    "print(nd_due_date)\n"
   ]
  },
  {
   "cell_type": "code",
   "execution_count": 15,
   "metadata": {},
   "outputs": [
    {
     "name": "stdout",
     "output_type": "stream",
     "text": [
      "Primeway - Nota de Débito 0032 - 2023-07.pdf\n",
      "0033\n"
     ]
    }
   ],
   "source": [
    "# Get sequence of the Nota de Débito\n",
    "\n",
    "nd_sequence = ''\n",
    "\n",
    "# Get filename\n",
    "file_list = [entry.name for entry in os.scandir(nd_folder) if entry.name[-3:] == 'pdf']\n",
    "filename = file_list[len(file_list)-1]\n",
    "print(filename)\n",
    "\n",
    "# Calc new sequence\n",
    "pattern = '0[0-9]+(?=\\s)'\n",
    "last_sequence = re.search(pattern, filename)\n",
    "\n",
    "nd_sequence = int(last_sequence.group()) + 1\n",
    "nd_sequence = str(nd_sequence).zfill(4)\n",
    "print(nd_sequence)"
   ]
  },
  {
   "cell_type": "code",
   "execution_count": 20,
   "metadata": {},
   "outputs": [
    {
     "name": "stdout",
     "output_type": "stream",
     "text": [
      "{\n",
      "    \"nd_current_date\": \"28 de julho de 2023\",\n",
      "    \"nd_sequence\": \"0033\",\n",
      "    \"nd_recipient\": \"elaine@swedcham.com.br\",\n",
      "    \"nd_description\": \"Plano Mensal MAILCHIMP - US$ 55,00 (cota\\u00e7\\u00e3o R$ 5,03 + 6,38% IOF + Comiss\\u00e3o 10%)\",\n",
      "    \"nd_date_of_charge\": \"19/06/2023\",\n",
      "    \"nd_amount\": \"323,73\",\n",
      "    \"nd_due_date\": \"31/07/2023\"\n",
      "}\n"
     ]
    }
   ],
   "source": [
    "# Prepare context\n",
    "\n",
    "context = { \n",
    "   'nd_current_date'   : nd_current_date,\n",
    "   'nd_sequence'       : nd_sequence,\n",
    "   'nd_recipient'      : nd_recipient,\n",
    "   'nd_description'    : nd_description,\n",
    "   'nd_date_of_charge' : nd_date_of_charge,\n",
    "   'nd_amount'         : nd_amount,\n",
    "   'nd_due_date'       : nd_due_date\n",
    "}\n",
    "pretty_context = json.dumps(context, indent=4)\n",
    "\n",
    "print(pretty_context)"
   ]
  },
  {
   "cell_type": "markdown",
   "metadata": {},
   "source": [
    "#### 3. Create a new Word File with the current Debit Note"
   ]
  },
  {
   "cell_type": "code",
   "execution_count": 26,
   "metadata": {},
   "outputs": [],
   "source": [
    "# Open template and render\n",
    "doc = DocxTemplate(nd_folder + nd_template)\n",
    "doc.render(context)\n",
    "\n",
    "# Save a new Nota de Débito\n",
    "nd_filename = nd_filename.format(nd_sequence, nd_due_date[-4:], nd_due_date[3:5])\n",
    "doc.save(nd_folder + nd_filename)"
   ]
  }
 ],
 "metadata": {
  "kernelspec": {
   "display_name": "dash",
   "language": "python",
   "name": "python3"
  },
  "language_info": {
   "codemirror_mode": {
    "name": "ipython",
    "version": 3
   },
   "file_extension": ".py",
   "mimetype": "text/x-python",
   "name": "python",
   "nbconvert_exporter": "python",
   "pygments_lexer": "ipython3",
   "version": "3.11.4"
  },
  "orig_nbformat": 4
 },
 "nbformat": 4,
 "nbformat_minor": 2
}
