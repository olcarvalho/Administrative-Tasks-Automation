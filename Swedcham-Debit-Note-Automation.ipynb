{
 "cells": [
  {
   "cell_type": "markdown",
   "metadata": {},
   "source": [
    "## Swedcham Debit Note Automation"
   ]
  },
  {
   "cell_type": "markdown",
   "metadata": {},
   "source": [
    "1. Read American Credit Card Invoice\n",
    "2. Gather all needed pieces of information\n",
    "3. Create a new Word File with the current Debit Note\n",
    "4. Generate a PDF from the Word File\n",
    "5. Send a mail to Swedcham"
   ]
  },
  {
   "cell_type": "markdown",
   "metadata": {},
   "source": [
    "#### 1. Read American Credit Card Invoice"
   ]
  },
  {
   "cell_type": "code",
   "execution_count": 1,
   "metadata": {},
   "outputs": [],
   "source": [
    "# Import Libraries\n",
    "\n",
    "# Common Libraries\n",
    "import datetime\n",
    "import os\n",
    "import re\n",
    "import datetime\n",
    "import locale\n",
    "import json\n",
    "\n",
    "# Word/PDF Libraries\n",
    "import PyPDF2\n",
    "from docxtpl import DocxTemplate\n",
    "\n",
    "# Email libraries\n",
    "import smtplib, ssl\n",
    "from email.message import EmailMessage\n",
    "from email.mime.multipart import MIMEMultipart\n",
    "from email.mime.text import MIMEText\n",
    "from email.mime.application import MIMEApplication\n",
    "\n",
    "# Cryptography Library\n",
    "from cryptography.fernet import Fernet\n"
   ]
  },
  {
   "cell_type": "code",
   "execution_count": 20,
   "metadata": {},
   "outputs": [
    {
     "name": "stdout",
     "output_type": "stream",
     "text": [
      "Olá Elaine,\n",
      "\n",
      "Em anexo a Nota de Débito do Mailchimp deste mês.\n",
      "\n",
      "Oscar\n"
     ]
    }
   ],
   "source": [
    "# Load Script Parameters\n",
    "\n",
    "# Code References\n",
    "    # https://www.scaler.com/topics/how-to-open-json-file-in-python/\n",
    "    # https://bobbyhadz.com/blog/python-assign-dictionary-value-to-variable#assign-dictionary-key-value-pairs-to-variables-in-python\n",
    "\n",
    "# Open json file with the parameters\n",
    "with open(\"Swedcham-Debit-Note-Automation-Params.json\", \"r\") as file:\n",
    "    jsonData = json.load(file)\n",
    "# print(\"Datatype of variable: \", type(jsonData))\n",
    "\n",
    "# Initiate variables\n",
    "locals().update(jsonData['crypto'])\n",
    "locals().update(jsonData['credit_card'])\n",
    "locals().update(jsonData['debit_note'])\n",
    "locals().update(jsonData['mail'])\n",
    "\n",
    "# Decode passwords\n",
    "key = bytes(pwd_key, 'utf-8')\n",
    "fernet = Fernet(key)\n",
    "\n",
    "cc_pass = fernet.decrypt(bytes(cc_pass, 'utf-8')).decode()\n",
    "mail_password = fernet.decrypt(bytes(mail_password, 'utf-8')).decode()\n",
    "\n",
    "print(nd_mail_body)"
   ]
  },
  {
   "cell_type": "code",
   "execution_count": 6,
   "metadata": {},
   "outputs": [
    {
     "name": "stdout",
     "output_type": "stream",
     "text": [
      "D:\\Primeway\\Users Pw\\Oscar.Carvalho\\Contas\\Cartões de Crédito\\American\\2023\\\n",
      "2023-08-Extrato-American-Bradesco.pdf\n"
     ]
    }
   ],
   "source": [
    "# Get last invoice file name\n",
    "\n",
    "# Get current year\n",
    "today = datetime.date.today()\n",
    "year = str(today.year)\n",
    "# print(year)\n",
    "\n",
    "path = cc_folder + year + '\\\\'\n",
    "\n",
    "file_list = [entry.name for entry in os.scandir(path) if entry.name[0:4] == year]\n",
    "filename = file_list[len(file_list)-1]\n",
    "\n",
    "print(path)\n",
    "print(filename)"
   ]
  },
  {
   "cell_type": "code",
   "execution_count": 7,
   "metadata": {},
   "outputs": [
    {
     "name": "stdout",
     "output_type": "stream",
     "text": [
      "19/07/2023 MAILCHIMP 55.00 USD 55.00 5.0500 277.75\n",
      "\n"
     ]
    }
   ],
   "source": [
    "# Open PDF file and get Mailchimp line\n",
    "\n",
    "with open(path + filename, 'rb') as obj:\n",
    "   pdfReader = PyPDF2.PdfReader(obj)\n",
    "   if pdfReader.is_encrypted:\n",
    "      pdfReader.decrypt(cc_pass)\n",
    "   page_txt = pdfReader.pages[0].extract_text()\n",
    "\n",
    "pattern = '[0-9]+/[0-9]+/[0-9]+.+' + 'MAILCHIMP.+' + '\\\\n'\n",
    "mailchimp_line = re.search(pattern, page_txt)\n",
    "if (not mailchimp_line == None):\n",
    "   mailchimp_line = mailchimp_line.group().replace(',', '.')\n",
    "   print(mailchimp_line)\n",
    "else:\n",
    "   print('Mailchimp line not found!')"
   ]
  },
  {
   "cell_type": "markdown",
   "metadata": {},
   "source": [
    "#### 2. Gather all needed pieces of information"
   ]
  },
  {
   "cell_type": "code",
   "execution_count": 8,
   "metadata": {},
   "outputs": [
    {
     "name": "stdout",
     "output_type": "stream",
     "text": [
      "Plano Mensal MAILCHIMP - US$ 55,00 (cotação R$ 5,05 + 6,38% IOF + Comissão 10%)\n",
      "11 de agosto de 2023\n"
     ]
    }
   ],
   "source": [
    "# Get most of the context variables from CC PDF\n",
    "\n",
    "locale.setlocale(locale.LC_ALL, 'pt_BR')\n",
    "\n",
    "items = re.split('[\\s|\\\\n]', mailchimp_line)\n",
    "nd_date_of_charge = items[0]\n",
    "nd_value_usd      = items[4]\n",
    "nd_value_brlusd   = items[5]\n",
    "nd_value_brl      = items[6]\n",
    "\n",
    "# Calc totals\n",
    "nd_amount = round(float(nd_value_usd) * float(nd_value_brlusd) * (1 + nd_IOF) * (1 + nd_comission), 2)\n",
    "nd_amount = str(nd_amount).replace('.', ',')\n",
    "\n",
    "# Format values\n",
    "nd_value_usd    = str(nd_value_usd).replace('.', ',')\n",
    "nd_value_brlusd = str(round(float(nd_value_brlusd), 2)).replace('.', ',')\n",
    "\n",
    "nd_description = nd_desc_template.format(nd_value_usd, nd_value_brlusd)\n",
    "print(nd_description)\n",
    "\n",
    "# Get current date\n",
    "nd_current_date = datetime.date.today().strftime(\"%d de %B de %Y\")\n",
    "print(nd_current_date)\n"
   ]
  },
  {
   "cell_type": "code",
   "execution_count": 9,
   "metadata": {},
   "outputs": [
    {
     "name": "stdout",
     "output_type": "stream",
     "text": [
      "2023-07-19 00:00:00\n",
      "31/08/2023\n"
     ]
    }
   ],
   "source": [
    "# Get due date\n",
    "\n",
    "# Get date object from date of charge\n",
    "date_obj = datetime.datetime.strptime(nd_date_of_charge, '%d/%m/%Y')\n",
    "print(date_obj)\n",
    "# # Calc due date\n",
    "nd_due_date = date_obj.replace(day=1) + datetime.timedelta(days=31*2)\n",
    "nd_due_date = nd_due_date - datetime.timedelta(days=nd_due_date.day)\n",
    "\n",
    "# Format Due Date\n",
    "nd_due_date = nd_due_date.strftime(\"%d/%m/%Y\")\n",
    "print(nd_due_date)\n"
   ]
  },
  {
   "cell_type": "code",
   "execution_count": 12,
   "metadata": {},
   "outputs": [
    {
     "name": "stdout",
     "output_type": "stream",
     "text": [
      "Primeway - Nota de Débito 0032 - 2023-07.pdf\n",
      "0033\n"
     ]
    }
   ],
   "source": [
    "# Get sequence of the Nota de Débito\n",
    "\n",
    "nd_sequence = ''\n",
    "\n",
    "# Get filename\n",
    "file_list = [entry.name for entry in os.scandir(nd_folder) if entry.name[0:8] == 'Primeway' and entry.name[-3:] == 'pdf']\n",
    "filename = file_list[len(file_list)-1]\n",
    "print(filename)\n",
    "\n",
    "# Calc new sequence\n",
    "pattern = '0[0-9]+(?=\\s)'\n",
    "last_sequence = re.search(pattern, filename)\n",
    "\n",
    "nd_sequence = int(last_sequence.group()) + 1\n",
    "nd_sequence = str(nd_sequence).zfill(4)\n",
    "print(nd_sequence)"
   ]
  },
  {
   "cell_type": "code",
   "execution_count": 13,
   "metadata": {},
   "outputs": [
    {
     "name": "stdout",
     "output_type": "stream",
     "text": [
      "{\n",
      "    \"nd_current_date\": \"11 de agosto de 2023\",\n",
      "    \"nd_sequence\": \"0033\",\n",
      "    \"nd_recipient\": \"oscar@primeway.com.br\",\n",
      "    \"nd_description\": \"Plano Mensal MAILCHIMP - US$ 55,00 (cota\\u00e7\\u00e3o R$ 5,05 + 6,38% IOF + Comiss\\u00e3o 10%)\",\n",
      "    \"nd_date_of_charge\": \"19/07/2023\",\n",
      "    \"nd_amount\": \"325,02\",\n",
      "    \"nd_due_date\": \"31/08/2023\"\n",
      "}\n"
     ]
    }
   ],
   "source": [
    "# Prepare context\n",
    "\n",
    "context = { \n",
    "   'nd_current_date'   : nd_current_date,\n",
    "   'nd_sequence'       : nd_sequence,\n",
    "   'nd_recipient'      : mail_recipients[0],\n",
    "   'nd_description'    : nd_description,\n",
    "   'nd_date_of_charge' : nd_date_of_charge,\n",
    "   'nd_amount'         : nd_amount,\n",
    "   'nd_due_date'       : nd_due_date\n",
    "}\n",
    "pretty_context = json.dumps(context, indent=4)\n",
    "\n",
    "print(pretty_context)"
   ]
  },
  {
   "cell_type": "markdown",
   "metadata": {},
   "source": [
    "#### 3. Create a new Word File from the current Debit Note"
   ]
  },
  {
   "cell_type": "code",
   "execution_count": 23,
   "metadata": {},
   "outputs": [
    {
     "ename": "TypeError",
     "evalue": "'SSLContext' object is not iterable",
     "output_type": "error",
     "traceback": [
      "\u001b[1;31m---------------------------------------------------------------------------\u001b[0m",
      "\u001b[1;31mTypeError\u001b[0m                                 Traceback (most recent call last)",
      "Cell \u001b[1;32mIn[23], line 3\u001b[0m\n\u001b[0;32m      1\u001b[0m \u001b[39m# Open template and render\u001b[39;00m\n\u001b[0;32m      2\u001b[0m doc \u001b[39m=\u001b[39m DocxTemplate(nd_folder \u001b[39m+\u001b[39m nd_template)\n\u001b[1;32m----> 3\u001b[0m doc\u001b[39m.\u001b[39;49mrender(context)\n\u001b[0;32m      5\u001b[0m \u001b[39m# Save a new Nota de Débito\u001b[39;00m\n\u001b[0;32m      6\u001b[0m nd_word_filename \u001b[39m=\u001b[39m nd_filename\u001b[39m.\u001b[39mformat(nd_sequence, nd_due_date[\u001b[39m-\u001b[39m\u001b[39m4\u001b[39m:], nd_due_date[\u001b[39m3\u001b[39m:\u001b[39m5\u001b[39m])\n",
      "File \u001b[1;32mc:\\Users\\oscar\\anaconda3\\envs\\dash\\Lib\\site-packages\\docxtpl\\template.py:368\u001b[0m, in \u001b[0;36mDocxTemplate.render\u001b[1;34m(self, context, jinja_env, autoescape)\u001b[0m\n\u001b[0;32m    365\u001b[0m         jinja_env\u001b[39m.\u001b[39mautoescape \u001b[39m=\u001b[39m autoescape\n\u001b[0;32m    367\u001b[0m \u001b[39m# Body\u001b[39;00m\n\u001b[1;32m--> 368\u001b[0m xml_src \u001b[39m=\u001b[39m \u001b[39mself\u001b[39;49m\u001b[39m.\u001b[39;49mbuild_xml(context, jinja_env)\n\u001b[0;32m    370\u001b[0m \u001b[39m# fix tables if needed\u001b[39;00m\n\u001b[0;32m    371\u001b[0m tree \u001b[39m=\u001b[39m \u001b[39mself\u001b[39m\u001b[39m.\u001b[39mfix_tables(xml_src)\n",
      "File \u001b[1;32mc:\\Users\\oscar\\anaconda3\\envs\\dash\\Lib\\site-packages\\docxtpl\\template.py:315\u001b[0m, in \u001b[0;36mDocxTemplate.build_xml\u001b[1;34m(self, context, jinja_env)\u001b[0m\n\u001b[0;32m    313\u001b[0m xml \u001b[39m=\u001b[39m \u001b[39mself\u001b[39m\u001b[39m.\u001b[39mget_xml()\n\u001b[0;32m    314\u001b[0m xml \u001b[39m=\u001b[39m \u001b[39mself\u001b[39m\u001b[39m.\u001b[39mpatch_xml(xml)\n\u001b[1;32m--> 315\u001b[0m xml \u001b[39m=\u001b[39m \u001b[39mself\u001b[39;49m\u001b[39m.\u001b[39;49mrender_xml_part(xml, \u001b[39mself\u001b[39;49m\u001b[39m.\u001b[39;49mdocx\u001b[39m.\u001b[39;49m_part, context, jinja_env)\n\u001b[0;32m    316\u001b[0m \u001b[39mreturn\u001b[39;00m xml\n",
      "File \u001b[1;32mc:\\Users\\oscar\\anaconda3\\envs\\dash\\Lib\\site-packages\\docxtpl\\template.py:239\u001b[0m, in \u001b[0;36mDocxTemplate.render_xml_part\u001b[1;34m(self, src_xml, part, context, jinja_env)\u001b[0m\n\u001b[0;32m    237\u001b[0m     \u001b[39melse\u001b[39;00m:\n\u001b[0;32m    238\u001b[0m         template \u001b[39m=\u001b[39m Template(src_xml)\n\u001b[1;32m--> 239\u001b[0m     dst_xml \u001b[39m=\u001b[39m template\u001b[39m.\u001b[39;49mrender(context)\n\u001b[0;32m    240\u001b[0m \u001b[39mexcept\u001b[39;00m TemplateError \u001b[39mas\u001b[39;00m exc:\n\u001b[0;32m    241\u001b[0m     \u001b[39mif\u001b[39;00m \u001b[39mhasattr\u001b[39m(exc, \u001b[39m'\u001b[39m\u001b[39mlineno\u001b[39m\u001b[39m'\u001b[39m) \u001b[39mand\u001b[39;00m exc\u001b[39m.\u001b[39mlineno \u001b[39mis\u001b[39;00m \u001b[39mnot\u001b[39;00m \u001b[39mNone\u001b[39;00m:\n",
      "File \u001b[1;32mc:\\Users\\oscar\\anaconda3\\envs\\dash\\Lib\\site-packages\\jinja2\\environment.py:1296\u001b[0m, in \u001b[0;36mTemplate.render\u001b[1;34m(self, *args, **kwargs)\u001b[0m\n\u001b[0;32m   1293\u001b[0m         \u001b[39mif\u001b[39;00m close:\n\u001b[0;32m   1294\u001b[0m             loop\u001b[39m.\u001b[39mclose()\n\u001b[1;32m-> 1296\u001b[0m ctx \u001b[39m=\u001b[39m \u001b[39mself\u001b[39m\u001b[39m.\u001b[39mnew_context(\u001b[39mdict\u001b[39;49m(\u001b[39m*\u001b[39;49margs, \u001b[39m*\u001b[39;49m\u001b[39m*\u001b[39;49mkwargs))\n\u001b[0;32m   1298\u001b[0m \u001b[39mtry\u001b[39;00m:\n\u001b[0;32m   1299\u001b[0m     \u001b[39mreturn\u001b[39;00m \u001b[39mself\u001b[39m\u001b[39m.\u001b[39menvironment\u001b[39m.\u001b[39mconcat(\u001b[39mself\u001b[39m\u001b[39m.\u001b[39mroot_render_func(ctx))  \u001b[39m# type: ignore\u001b[39;00m\n",
      "\u001b[1;31mTypeError\u001b[0m: 'SSLContext' object is not iterable"
     ]
    }
   ],
   "source": [
    "# Open template and render\n",
    "doc = DocxTemplate(nd_folder + nd_template)\n",
    "doc.render(context)\n",
    "\n",
    "# Save a new Nota de Débito\n",
    "nd_word_filename = nd_filename.format(nd_sequence, nd_due_date[-4:], nd_due_date[3:5])\n",
    "doc.save(nd_folder + nd_word_filename)\n",
    "\n",
    "print(nd_word_filename)"
   ]
  },
  {
   "cell_type": "markdown",
   "metadata": {},
   "source": [
    "#### 4. Generate a PDF from the Word File"
   ]
  },
  {
   "cell_type": "code",
   "execution_count": 17,
   "metadata": {},
   "outputs": [
    {
     "name": "stdout",
     "output_type": "stream",
     "text": [
      "Primeway - Nota de Débito 0033 - 2023-08.pdf\n"
     ]
    }
   ],
   "source": [
    "# Create Word Application\n",
    "from win32com import client\n",
    "word_app = client.Dispatch(\"Word.Application\")\n",
    "\n",
    "# Generate PDF from Word\n",
    "doc = word_app.Documents.Open(nd_folder + nd_word_filename)\n",
    "\n",
    "nd_pdf_filename = nd_word_filename.replace('.docx', '.pdf')\n",
    "doc.SaveAs(nd_folder + nd_pdf_filename, FileFormat=17)\n",
    "\n",
    "# Close application\n",
    "doc.Close()\n",
    "word_app.Quit()\n",
    "# doc.ActiveDocument.Save\n",
    "# doc.ActiveDocument.Close()\n",
    "\n",
    "print(nd_pdf_filename)"
   ]
  },
  {
   "cell_type": "markdown",
   "metadata": {},
   "source": [
    "#### 5. Send a mail with attached Debit Note to Swedcham"
   ]
  },
  {
   "cell_type": "code",
   "execution_count": 18,
   "metadata": {},
   "outputs": [],
   "source": [
    "# Helper functions\n",
    "\n",
    "# Attach files as MIMEApplication to the email\n",
    "def attach_file_to_email(email_message, folder, filename):\n",
    "    # Open the attachment file for reading in binary mode, and make it a MIMEApplication class\n",
    "    with open(folder + filename, \"rb\") as f:\n",
    "        file_attachment = MIMEApplication(f.read())\n",
    "        # Add header/name to the attachments\n",
    "        # Source: https://docs.python.org/3/library/email.message.html\n",
    "        file_attachment.add_header('Content-Disposition', 'attachment', filename=('iso-8859-1', '', filename))\n",
    "\n",
    "    # Attach the file to the message\n",
    "    email_message.attach(file_attachment)"
   ]
  },
  {
   "cell_type": "code",
   "execution_count": 21,
   "metadata": {},
   "outputs": [
    {
     "name": "stdout",
     "output_type": "stream",
     "text": [
      "Email enviado com sucesso!\n"
     ]
    }
   ],
   "source": [
    "# Code References\n",
    "   # https://www.youtube.com/watch?v=g_j6ILT-X0k&ab_channel=ThePyCoach\n",
    "   # https://www.youtube.com/watch?v=NvtjLXSY-hE&ab_channel=LianneandJustin\n",
    "\n",
    "# Google Resources\n",
    "   # https://knowledge.workspace.google.com/kb/how-to-generate-an-app-passwords-000009237\n",
    "   # https://app.s.center/hc/en-us/articles/1500012778262-Cannot-sign-in-to-Gmail-Invalid-email-address-or-password\n",
    "\n",
    "# Mount the mail message\n",
    "email_message = MIMEMultipart()\n",
    "email_message['From'] = mail_sender\n",
    "email_message['To'] = ', '.join(mail_recipients)\n",
    "email_message['Subject'] = nd_mail_subject\n",
    "\n",
    "# Attach mail body\n",
    "email_message.attach(MIMEText(nd_mail_body, \"plain\"),)\n",
    "\n",
    "# Attach Debit Note file\n",
    "attach_file_to_email(email_message, nd_folder, nd_pdf_filename)\n",
    "\n",
    "email_string = email_message.as_string()\n",
    "\n",
    "# Add SSL (layer of security)\n",
    "context = ssl.create_default_context()\n",
    "\n",
    "# Log in and send the email\n",
    "with smtplib.SMTP_SSL('smtp.gmail.com', 465, context=context) as smtp:\n",
    "    smtp.login(mail_sender, mail_password)\n",
    "    smtp_return = smtp.sendmail(mail_sender, mail_recipients, email_string)\n",
    "    print(smtp_success)"
   ]
  }
 ],
 "metadata": {
  "kernelspec": {
   "display_name": "dash",
   "language": "python",
   "name": "python3"
  },
  "language_info": {
   "codemirror_mode": {
    "name": "ipython",
    "version": 3
   },
   "file_extension": ".py",
   "mimetype": "text/x-python",
   "name": "python",
   "nbconvert_exporter": "python",
   "pygments_lexer": "ipython3",
   "version": "3.11.4"
  },
  "orig_nbformat": 4
 },
 "nbformat": 4,
 "nbformat_minor": 2
}
