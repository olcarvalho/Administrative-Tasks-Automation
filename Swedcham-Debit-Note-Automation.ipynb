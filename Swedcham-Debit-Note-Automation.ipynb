{
 "cells": [
  {
   "cell_type": "markdown",
   "metadata": {},
   "source": [
    "## Swedcham Debit Note Automation"
   ]
  },
  {
   "cell_type": "markdown",
   "metadata": {},
   "source": [
    "1. Read American Credit Card Invoice\n",
    "2. Gather all needed pieces of information\n",
    "3. Create a new Word File with the current Debit Note\n",
    "4. Generate a PDF from the Word File\n",
    "5. Send a mail to Swedcham"
   ]
  },
  {
   "cell_type": "markdown",
   "metadata": {},
   "source": [
    "#### 1. Read American Credit Card Invoice"
   ]
  },
  {
   "cell_type": "code",
   "execution_count": 23,
   "metadata": {},
   "outputs": [],
   "source": [
    "# Import Libraries\n",
    "import PyPDF2\n",
    "from docxtpl import DocxTemplate\n",
    "import datetime\n",
    "import os\n",
    "import re\n",
    "import datetime\n",
    "import locale\n",
    "import json\n",
    "\n",
    "# Email libraries\n",
    "import smtplib, ssl\n",
    "from email.message import EmailMessage\n",
    "from email.mime.multipart import MIMEMultipart\n",
    "from email.mime.text import MIMEText\n",
    "from email.mime.application import MIMEApplication"
   ]
  },
  {
   "cell_type": "code",
   "execution_count": 21,
   "metadata": {},
   "outputs": [],
   "source": [
    "# Define Script Variables\n",
    "\n",
    "# Get American Credit Card Invoice folder\n",
    "cc_folder = 'D:\\\\Primeway\\\\Users Pw\\\\Oscar.Carvalho\\\\Contas\\\\Cartões de Crédito\\\\American\\\\'\n",
    "cc_pass = 'LaylaLaylaLayla'\n",
    "\n",
    "# Get Destination Folder and Template\n",
    "nd_folder = 'D:\\\\Primeway\\\\Primeway\\\\Administração\\\\Contas a Receber\\\\Nota de Débito\\\\'\n",
    "nd_template = 'Primeway - Nota de Débito - Template.docx'\n",
    "nd_filename = \"Primeway - Nota de Débito {} - {}-{}.docx\"\n",
    "\n",
    "# Charge parameters\n",
    "nd_desc_template = \"Plano Mensal MAILCHIMP - US$ {} (cotação R$ {} + 6,38% IOF + Comissão 10%)\"\n",
    "nd_IOF = 0.0638\n",
    "nd_comission = 0.1\n",
    "\n",
    "# Mail parameters\n",
    "# mail_recipients = ['elaine@swedcham.com.br']\n",
    "mail_recipients = ['oscar@primeway.com.br']\n",
    "mail_sender = 'oscar@primeway.com.br'\n",
    "smtp_success = 'Email enviado com sucesso!'\n",
    "nd_mail_subject = 'Nota de Débito Mailchimp'\n",
    "nd_mail_body = \"\"\"\n",
    "Olá Elaine,\n",
    "\n",
    "Em anexo a Nota de Débito do Mailchimp deste mês.\n",
    "\n",
    "Oscar\n",
    "\"\"\""
   ]
  },
  {
   "cell_type": "code",
   "execution_count": null,
   "metadata": {},
   "outputs": [],
   "source": [
    "# Get last invoice file name\n",
    "\n",
    "# Get current year\n",
    "today = datetime.date.today()\n",
    "year = str(today.year)\n",
    "# print(year)\n",
    "\n",
    "path = cc_folder + year + '\\\\'\n",
    "\n",
    "file_list = [entry.name for entry in os.scandir(path) if entry.name[0:4] == year]\n",
    "filename = file_list[len(file_list)-1]\n",
    "\n",
    "print(path)\n",
    "print(filename)"
   ]
  },
  {
   "cell_type": "code",
   "execution_count": null,
   "metadata": {},
   "outputs": [],
   "source": [
    "# Open PDF file and get Mailchimp line\n",
    "filename = '2023-07-Extrato-American-Bradesco.pdf'\n",
    "\n",
    "with open(path + filename, 'rb') as obj:\n",
    "   pdfReader = PyPDF2.PdfReader(obj)\n",
    "   if pdfReader.is_encrypted:\n",
    "      pdfReader.decrypt(cc_pass)\n",
    "   page_txt = pdfReader.pages[0].extract_text()\n",
    "\n",
    "pattern = '[0-9]+/[0-9]+/[0-9]+.+' + 'MAILCHIMP.+' + '\\\\n'\n",
    "mailchimp_line = re.search(pattern, page_txt)\n",
    "if (not mailchimp_line == None):\n",
    "   mailchimp_line = mailchimp_line.group().replace(',', '.')\n",
    "   print(mailchimp_line)\n",
    "else:\n",
    "   print('Mailchimp line not found!')"
   ]
  },
  {
   "cell_type": "markdown",
   "metadata": {},
   "source": [
    "#### 2. Gather all needed pieces of information"
   ]
  },
  {
   "cell_type": "code",
   "execution_count": null,
   "metadata": {},
   "outputs": [],
   "source": [
    "# Get most of the context variables from CC PDF\n",
    "\n",
    "locale.setlocale(locale.LC_ALL, 'pt_BR')\n",
    "\n",
    "items = re.split('[\\s|\\\\n]', mailchimp_line)\n",
    "nd_date_of_charge = items[0]\n",
    "nd_value_usd      = items[4]\n",
    "nd_value_brlusd   = items[5]\n",
    "nd_value_brl      = items[6]\n",
    "\n",
    "# Calc totals\n",
    "nd_amount = round(float(nd_value_usd) * float(nd_value_brlusd) * (1 + nd_IOF) * (1 + nd_comission), 2)\n",
    "nd_amount = str(nd_amount).replace('.', ',')\n",
    "\n",
    "# Format values\n",
    "nd_value_usd    = str(nd_value_usd).replace('.', ',')\n",
    "nd_value_brlusd = str(round(float(nd_value_brlusd), 2)).replace('.', ',')\n",
    "\n",
    "nd_description = nd_desc_template.format(nd_value_usd, nd_value_brlusd)\n",
    "print(nd_description)\n",
    "\n",
    "# Get current date\n",
    "nd_current_date = datetime.date.today().strftime(\"%d de %B de %Y\")\n",
    "print(nd_current_date)\n"
   ]
  },
  {
   "cell_type": "code",
   "execution_count": null,
   "metadata": {},
   "outputs": [],
   "source": [
    "# Get due date\n",
    "\n",
    "# Get date object from date of charge\n",
    "date_obj = datetime.datetime.strptime(nd_date_of_charge, '%d/%m/%Y')\n",
    "print(date_obj)\n",
    "# # Calc due date\n",
    "nd_due_date = date_obj.replace(day=1) + datetime.timedelta(days=31*2)\n",
    "nd_due_date = nd_due_date - datetime.timedelta(days=nd_due_date.day)\n",
    "\n",
    "# Format Due Date\n",
    "nd_due_date = nd_due_date.strftime(\"%d/%m/%Y\")\n",
    "print(nd_due_date)\n"
   ]
  },
  {
   "cell_type": "code",
   "execution_count": null,
   "metadata": {},
   "outputs": [],
   "source": [
    "# Get sequence of the Nota de Débito\n",
    "\n",
    "nd_sequence = ''\n",
    "\n",
    "# Get filename\n",
    "file_list = [entry.name for entry in os.scandir(nd_folder) if entry.name[-3:] == 'pdf']\n",
    "filename = file_list[len(file_list)-1]\n",
    "print(filename)\n",
    "\n",
    "# Calc new sequence\n",
    "pattern = '0[0-9]+(?=\\s)'\n",
    "last_sequence = re.search(pattern, filename)\n",
    "\n",
    "nd_sequence = int(last_sequence.group()) + 1\n",
    "nd_sequence = str(nd_sequence).zfill(4)\n",
    "print(nd_sequence)"
   ]
  },
  {
   "cell_type": "code",
   "execution_count": null,
   "metadata": {},
   "outputs": [],
   "source": [
    "# Prepare context\n",
    "\n",
    "context = { \n",
    "   'nd_current_date'   : nd_current_date,\n",
    "   'nd_sequence'       : nd_sequence,\n",
    "   'nd_recipient'      : nd_recipient,\n",
    "   'nd_description'    : nd_description,\n",
    "   'nd_date_of_charge' : nd_date_of_charge,\n",
    "   'nd_amount'         : nd_amount,\n",
    "   'nd_due_date'       : nd_due_date\n",
    "}\n",
    "pretty_context = json.dumps(context, indent=4)\n",
    "\n",
    "print(pretty_context)"
   ]
  },
  {
   "cell_type": "markdown",
   "metadata": {},
   "source": [
    "#### 3. Create a new Word File from the current Debit Note"
   ]
  },
  {
   "cell_type": "code",
   "execution_count": 32,
   "metadata": {},
   "outputs": [],
   "source": [
    "# Open template and render\n",
    "doc = DocxTemplate(nd_folder + nd_template)\n",
    "doc.render(context)\n",
    "\n",
    "# Save a new Nota de Débito\n",
    "nd_filename = nd_filename.format(nd_sequence, nd_due_date[-4:], nd_due_date[3:5])\n",
    "doc.save(nd_folder + nd_filename)"
   ]
  },
  {
   "cell_type": "markdown",
   "metadata": {},
   "source": [
    "#### 4. Generate a PDF from the Word File"
   ]
  },
  {
   "cell_type": "code",
   "execution_count": 36,
   "metadata": {},
   "outputs": [],
   "source": [
    "# Create Word Application\n",
    "from win32com import client\n",
    "word_app = client.Dispatch(\"Word.Application\")\n",
    "\n",
    "# Generate PDF from Word\n",
    "doc = word_app.Documents.Open(nd_folder + nd_filename)\n",
    "\n",
    "nd_filename = nd_filename.replace('.docx', '.pdf')\n",
    "doc.SaveAs(nd_folder + nd_filename, FileFormat=17)"
   ]
  },
  {
   "cell_type": "markdown",
   "metadata": {},
   "source": [
    "#### 5. Send a mail with attached Debit Note to Swedcham"
   ]
  },
  {
   "cell_type": "code",
   "execution_count": 22,
   "metadata": {},
   "outputs": [
    {
     "name": "stdout",
     "output_type": "stream",
     "text": [
      "Email enviado com sucesso!\n"
     ]
    }
   ],
   "source": [
    "# Code References\n",
    "   # https://www.youtube.com/watch?v=g_j6ILT-X0k&ab_channel=ThePyCoach\n",
    "   # https://www.youtube.com/watch?v=NvtjLXSY-hE&ab_channel=LianneandJustin\n",
    "\n",
    "# Google Resources\n",
    "   # https://knowledge.workspace.google.com/kb/how-to-generate-an-app-passwords-000009237\n",
    "   # https://app.s.center/hc/en-us/articles/1500012778262-Cannot-sign-in-to-Gmail-Invalid-email-address-or-password\n",
    "\n",
    "\n",
    "# Google App Password: lpaf kvcc ytau ubvp\n",
    "\n",
    "\n",
    "# Define email sender and receiver\n",
    "# email_sender = 'write-email-here'\n",
    "email_password = 'lpaf kvcc ytau ubvp'\n",
    "# email_password = 'oscar'\n",
    "# email_receiver = 'write-email-receiver-here'\n",
    "\n",
    "# Mount the mail message\n",
    "em = EmailMessage()\n",
    "em['From'] = mail_sender\n",
    "em['To'] = mail_recipients\n",
    "em['Subject'] = nd_mail_subject\n",
    "em.set_content(nd_mail_body)\n",
    "\n",
    "# Add SSL (layer of security)\n",
    "context = ssl.create_default_context()\n",
    "\n",
    "# Log in and send the email\n",
    "with smtplib.SMTP_SSL('smtp.gmail.com', 465, context=context) as smtp:\n",
    "    smtp.login(mail_sender, email_password)\n",
    "    smtp_return = smtp.sendmail(mail_sender, mail_recipients, em.as_string())\n",
    "    print(smtp_success)"
   ]
  }
 ],
 "metadata": {
  "kernelspec": {
   "display_name": "dash",
   "language": "python",
   "name": "python3"
  },
  "language_info": {
   "codemirror_mode": {
    "name": "ipython",
    "version": 3
   },
   "file_extension": ".py",
   "mimetype": "text/x-python",
   "name": "python",
   "nbconvert_exporter": "python",
   "pygments_lexer": "ipython3",
   "version": "3.11.4"
  },
  "orig_nbformat": 4
 },
 "nbformat": 4,
 "nbformat_minor": 2
}
