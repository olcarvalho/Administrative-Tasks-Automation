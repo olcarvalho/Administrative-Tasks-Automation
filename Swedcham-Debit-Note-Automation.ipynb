{
 "cells": [
  {
   "cell_type": "markdown",
   "metadata": {},
   "source": [
    "## Swedcham Debit Note Automation"
   ]
  },
  {
   "cell_type": "markdown",
   "metadata": {},
   "source": [
    "1. Read American Credit Card Invoice\n",
    "2. Gather all needed pieces of information\n",
    "2. Create a new Word File with the current Debit Note\n",
    "3. Generate a PDF from the Word File\n",
    "4. Send a mail to Swedcham"
   ]
  },
  {
   "cell_type": "markdown",
   "metadata": {},
   "source": [
    "#### 1. Read American Credit Card Invoice"
   ]
  },
  {
   "cell_type": "code",
   "execution_count": 1,
   "metadata": {},
   "outputs": [],
   "source": [
    "# Import Libraries\n",
    "import PyPDF2\n",
    "import datetime\n",
    "import os\n",
    "import re"
   ]
  },
  {
   "cell_type": "code",
   "execution_count": 47,
   "metadata": {},
   "outputs": [],
   "source": [
    "# Define Script Variables\n",
    "\n",
    "# Get American Credit Card Invoice folder\n",
    "cc_folder = 'D:\\\\Primeway\\\\Users Pw\\\\Oscar.Carvalho\\\\Contas\\\\Cartões de Crédito\\\\American\\\\'\n",
    "cc_pass = 'LaylaLaylaLayla'\n",
    "\n",
    "# Get Destination Folder and Template\n",
    "nd_folder = 'D:\\\\Primeway\\\\Primeway\\\\Administração\\\\Contas a Receber\\\\Nota de Débito\\\\'\n",
    "nd_template = 'Primeway - Nota de Débito - Template.docx'\n",
    "nd_recipient = 'elaine@swedcham.com.br'\n",
    "nd_sender = 'oscar@primeway.com.br'\n",
    "\n",
    "# Charge parameters\n",
    "nd_description = \"Plano Mensal MAILCHIMP - US$ {} (cotação R$ {} + 6,38% IOF + Comissão 10%)\"\n",
    "nd_IOF = 0.0638\n",
    "nd_comission = 0.1\n"
   ]
  },
  {
   "cell_type": "code",
   "execution_count": 3,
   "metadata": {},
   "outputs": [
    {
     "name": "stdout",
     "output_type": "stream",
     "text": [
      "D:\\Primeway\\Users Pw\\Oscar.Carvalho\\Contas\\Cartões de Crédito\\American\\2023\\\n",
      "2023-07-Extrato-American-Bradesco.pdf\n"
     ]
    }
   ],
   "source": [
    "# Get last invoice file name\n",
    "\n",
    "# Get current year\n",
    "today = datetime.date.today()\n",
    "year = str(today.year)\n",
    "# print(year)\n",
    "\n",
    "path = cc_folder + year + '\\\\'\n",
    "\n",
    "file_list = [entry.name for entry in os.scandir(path) if entry.name[0:4] == year]\n",
    "filename = file_list[len(file_list)-1]\n",
    "\n",
    "print(path)\n",
    "print(filename)"
   ]
  },
  {
   "cell_type": "code",
   "execution_count": 4,
   "metadata": {},
   "outputs": [
    {
     "name": "stdout",
     "output_type": "stream",
     "text": [
      "19/06/2023 MAILCHIMP 55.00 USD 55.00 5.0300 276.65\n",
      "\n"
     ]
    }
   ],
   "source": [
    "# Open PDF file and get Mailchimp line\n",
    "filename = '2023-07-Extrato-American-Bradesco.pdf'\n",
    "\n",
    "with open(path + filename, 'rb') as obj:\n",
    "   pdfReader = PyPDF2.PdfReader(obj)\n",
    "   if pdfReader.is_encrypted:\n",
    "      pdfReader.decrypt(cc_pass)\n",
    "   page_txt = pdfReader.pages[0].extract_text()\n",
    "\n",
    "pattern = '[0-9]+/[0-9]+/[0-9]+.+' + 'MAILCHIMP.+' + '\\\\n'\n",
    "mailchimp_line = re.search(pattern, page_txt)\n",
    "if (not mailchimp_line == None):\n",
    "   mailchimp_line = mailchimp_line.group().replace(',', '.')\n",
    "   print(mailchimp_line)\n",
    "else:\n",
    "   print('Mailchimp line not found!')"
   ]
  },
  {
   "cell_type": "markdown",
   "metadata": {},
   "source": [
    "#### 2. Gather all needed pieces of information"
   ]
  },
  {
   "cell_type": "code",
   "execution_count": 48,
   "metadata": {},
   "outputs": [
    {
     "name": "stdout",
     "output_type": "stream",
     "text": [
      "Plano Mensal MAILCHIMP - US$ 55,00 (cotação R$ 5,03 + 6,38% IOF + Comissão 10%)\n"
     ]
    }
   ],
   "source": [
    "# Get Mailchimp variables\n",
    "\n",
    "# charging_date = re.search('[0-9]+/[0-9]+/[0-9]+', mailchimp_line).group()\n",
    "# print(charging_date)\n",
    "\n",
    "items = re.split('[ |\\\\n]', mailchimp_line)\n",
    "nd_date_of_charge = items[0]\n",
    "nd_value_usd      = items[4]\n",
    "nd_value_brlusd   = items[5]\n",
    "nd_value_brl      = items[6]\n",
    "\n",
    "# Calc totals\n",
    "nd_total = round(float(nd_value_usd) * float(nd_value_brlusd) * (1 + nd_IOF) * (1 + nd_comission), 2)\n",
    "nd_total = str(nd_total).replace('.', ',')\n",
    "\n",
    "# Format values\n",
    "nd_value_usd    = str(nd_value_usd).replace('.', ',')\n",
    "nd_value_brlusd = str(round(float(nd_value_brlusd), 2)).replace('.', ',')\n",
    "\n",
    "nd_description = nd_description.format(nd_value_usd, nd_value_brlusd)\n",
    "print(nd_description)"
   ]
  }
 ],
 "metadata": {
  "kernelspec": {
   "display_name": "dash",
   "language": "python",
   "name": "python3"
  },
  "language_info": {
   "codemirror_mode": {
    "name": "ipython",
    "version": 3
   },
   "file_extension": ".py",
   "mimetype": "text/x-python",
   "name": "python",
   "nbconvert_exporter": "python",
   "pygments_lexer": "ipython3",
   "version": "3.11.4"
  },
  "orig_nbformat": 4
 },
 "nbformat": 4,
 "nbformat_minor": 2
}
