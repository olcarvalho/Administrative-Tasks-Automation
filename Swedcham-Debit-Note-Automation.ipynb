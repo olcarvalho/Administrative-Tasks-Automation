{
 "cells": [
  {
   "cell_type": "markdown",
   "metadata": {},
   "source": [
    "## Swedcham Debit Note Automation"
   ]
  },
  {
   "cell_type": "markdown",
   "metadata": {},
   "source": [
    "1. Read American Credit Card Invoice\n",
    "2. Create a new Word File with the current Debit Note\n",
    "3. Generate a PDF from the Word File\n",
    "4. Send a mail to Swedcham"
   ]
  },
  {
   "cell_type": "markdown",
   "metadata": {},
   "source": [
    "#### 1. Read American Credit Card Invoice"
   ]
  },
  {
   "cell_type": "code",
   "execution_count": 9,
   "metadata": {},
   "outputs": [],
   "source": [
    "# Import Libraries\n",
    "import PyPDF2\n",
    "import datetime\n",
    "import os\n",
    "import re"
   ]
  },
  {
   "cell_type": "code",
   "execution_count": 4,
   "metadata": {},
   "outputs": [],
   "source": [
    "# Get American Credit Card Invoice folder\n",
    "cc_folder = 'D:\\\\Primeway\\\\Users Pw\\\\Oscar.Carvalho\\\\Contas\\\\Cartões de Crédito\\\\American\\\\'\n",
    "pdf_pass = 'LaylaLaylaLayla'"
   ]
  },
  {
   "cell_type": "code",
   "execution_count": 3,
   "metadata": {},
   "outputs": [
    {
     "name": "stdout",
     "output_type": "stream",
     "text": [
      "D:\\Primeway\\Users Pw\\Oscar.Carvalho\\Contas\\Cartões de Crédito\\American\\2023\\\n",
      "2023-07-Extrato-American-Bradesco.pdf\n"
     ]
    }
   ],
   "source": [
    "# Get last invoice file name\n",
    "\n",
    "# Get current year\n",
    "today = datetime.date.today()\n",
    "year = str(today.year)\n",
    "# print(year)\n",
    "\n",
    "path = cc_folder + year + '\\\\'\n",
    "\n",
    "file_list = [entry.name for entry in os.scandir(path) if entry.name[0:4] == year]\n",
    "filename = file_list[len(file_list)-1]\n",
    "\n",
    "print(path)\n",
    "print(filename)"
   ]
  },
  {
   "cell_type": "code",
   "execution_count": 27,
   "metadata": {},
   "outputs": [
    {
     "name": "stdout",
     "output_type": "stream",
     "text": [
      "MAILCHIMP 55,00 USD 55,00 5,0300 276,65\n",
      "\n"
     ]
    }
   ],
   "source": [
    "# Open PDF file and get Mailchimp line\n",
    "filename = '2023-07-Extrato-American-Bradesco.pdf'\n",
    "\n",
    "with open(path + filename, 'rb') as obj:\n",
    "   pdfReader = PyPDF2.PdfReader(obj)\n",
    "   if pdfReader.is_encrypted:\n",
    "      pdfReader.decrypt(pdf_pass)\n",
    "   page_txt = pdfReader.pages[0].extract_text()\n",
    "\n",
    "mailchimp_line = re.search(\"MAILCHIMP.+\\\\n\", page_txt)\n",
    "if (not mailchimp_line == None):\n",
    "   \tprint(mailchimp_line.group())\n",
    "else:\n",
    "   print('Mailchimp line not found!')"
   ]
  }
 ],
 "metadata": {
  "kernelspec": {
   "display_name": "dash",
   "language": "python",
   "name": "python3"
  },
  "language_info": {
   "codemirror_mode": {
    "name": "ipython",
    "version": 3
   },
   "file_extension": ".py",
   "mimetype": "text/x-python",
   "name": "python",
   "nbconvert_exporter": "python",
   "pygments_lexer": "ipython3",
   "version": "3.11.4"
  },
  "orig_nbformat": 4
 },
 "nbformat": 4,
 "nbformat_minor": 2
}
