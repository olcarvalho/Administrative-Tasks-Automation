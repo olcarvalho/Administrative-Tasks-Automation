{
 "cells": [
  {
   "cell_type": "code",
   "execution_count": null,
   "metadata": {},
   "outputs": [],
   "source": [
    "from cryptography.fernet import Fernet\n",
    " \n",
    "# we will be encrypting the below string.\n",
    "message = \"test\"\n",
    " \n",
    "# generate a key for encryption and decryption\n",
    "# You can use fernet to generate\n",
    "# the key or use random key generator\n",
    "# here I'm using fernet to generate key\n",
    " \n",
    "key = Fernet.generate_key()\n",
    "print(\"key: \", key)\n",
    " \n",
    "# Instance the Fernet class with the key\n",
    " \n",
    "fernet = Fernet(key)\n",
    " \n",
    "# then use the Fernet class instance\n",
    "# to encrypt the string string must\n",
    "# be encoded to byte string before encryption\n",
    "encMessage = fernet.encrypt(message.encode())\n",
    " \n",
    "print(\"original string: \", message)\n",
    "print(\"encrypted string: \", encMessage)\n",
    " \n",
    "# decrypt the encrypted string with the\n",
    "# Fernet instance of the key,\n",
    "# that was used for encrypting the string\n",
    "# encoded byte string is returned by decrypt method,\n",
    "# so decode it to string with decode methods\n",
    "decMessage = fernet.decrypt(encMessage).decode()\n",
    " \n",
    "print(\"decrypted string: \", decMessage)"
   ]
  },
  {
   "cell_type": "code",
   "execution_count": null,
   "metadata": {},
   "outputs": [],
   "source": [
    "a = encMessage.decode()\n",
    "print(a)\n",
    "print(type(a))\n",
    "\n",
    "b = bytes(a, 'utf-8')\n",
    "print(b)\n",
    "print(type(b))\n",
    "print(encMessage==b)\n",
    "\n",
    "c = fernet.decrypt(b).decode()\n",
    "print(c)"
   ]
  }
 ],
 "metadata": {
  "kernelspec": {
   "display_name": "dash",
   "language": "python",
   "name": "python3"
  },
  "language_info": {
   "codemirror_mode": {
    "name": "ipython",
    "version": 3
   },
   "file_extension": ".py",
   "mimetype": "text/x-python",
   "name": "python",
   "nbconvert_exporter": "python",
   "pygments_lexer": "ipython3",
   "version": "3.11.4"
  },
  "orig_nbformat": 4
 },
 "nbformat": 4,
 "nbformat_minor": 2
}
