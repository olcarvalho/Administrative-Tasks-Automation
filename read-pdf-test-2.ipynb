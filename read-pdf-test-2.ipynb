{
 "cells": [
  {
   "cell_type": "code",
   "execution_count": null,
   "metadata": {},
   "outputs": [],
   "source": [
    "# Test python-docx-template library"
   ]
  },
  {
   "cell_type": "code",
   "execution_count": 1,
   "metadata": {},
   "outputs": [],
   "source": [
    "from docxtpl import DocxTemplate"
   ]
  },
  {
   "cell_type": "code",
   "execution_count": 8,
   "metadata": {},
   "outputs": [
    {
     "ename": "PermissionError",
     "evalue": "[Errno 13] Permission denied: 'generated_doc.docx'",
     "output_type": "error",
     "traceback": [
      "\u001b[1;31m---------------------------------------------------------------------------\u001b[0m",
      "\u001b[1;31mPermissionError\u001b[0m                           Traceback (most recent call last)",
      "Cell \u001b[1;32mIn[8], line 6\u001b[0m\n\u001b[0;32m      2\u001b[0m context \u001b[39m=\u001b[39m { \u001b[39m'\u001b[39m\u001b[39mcompany_name\u001b[39m\u001b[39m'\u001b[39m : \u001b[39m\"\u001b[39m\u001b[39mWorld company\u001b[39m\u001b[39m\"\u001b[39m,\n\u001b[0;32m      3\u001b[0m             \u001b[39m'\u001b[39m\u001b[39mmy_name\u001b[39m\u001b[39m'\u001b[39m : \u001b[39m'\u001b[39m\u001b[39mOscar\u001b[39m\u001b[39m'\u001b[39m \n\u001b[0;32m      4\u001b[0m           }\n\u001b[0;32m      5\u001b[0m doc\u001b[39m.\u001b[39mrender(context)\n\u001b[1;32m----> 6\u001b[0m doc\u001b[39m.\u001b[39;49msave(\u001b[39m\"\u001b[39;49m\u001b[39mgenerated_doc.docx\u001b[39;49m\u001b[39m\"\u001b[39;49m)\n",
      "File \u001b[1;32mc:\\Users\\oscar\\anaconda3\\envs\\dash\\Lib\\site-packages\\docxtpl\\template.py:753\u001b[0m, in \u001b[0;36mDocxTemplate.save\u001b[1;34m(self, filename, *args, **kwargs)\u001b[0m\n\u001b[0;32m    751\u001b[0m     \u001b[39mself\u001b[39m\u001b[39m.\u001b[39mdocx \u001b[39m=\u001b[39m Document(\u001b[39mself\u001b[39m\u001b[39m.\u001b[39mtemplate_file)\n\u001b[0;32m    752\u001b[0m \u001b[39mself\u001b[39m\u001b[39m.\u001b[39mpre_processing()\n\u001b[1;32m--> 753\u001b[0m \u001b[39mself\u001b[39;49m\u001b[39m.\u001b[39;49mdocx\u001b[39m.\u001b[39;49msave(filename, \u001b[39m*\u001b[39;49margs, \u001b[39m*\u001b[39;49m\u001b[39m*\u001b[39;49mkwargs)\n\u001b[0;32m    754\u001b[0m \u001b[39mself\u001b[39m\u001b[39m.\u001b[39mpost_processing(filename)\n\u001b[0;32m    755\u001b[0m \u001b[39mself\u001b[39m\u001b[39m.\u001b[39mis_saved \u001b[39m=\u001b[39m \u001b[39mTrue\u001b[39;00m\n",
      "File \u001b[1;32mc:\\Users\\oscar\\anaconda3\\envs\\dash\\Lib\\site-packages\\docx\\document.py:135\u001b[0m, in \u001b[0;36mDocument.save\u001b[1;34m(self, path_or_stream)\u001b[0m\n\u001b[0;32m    130\u001b[0m \u001b[39mdef\u001b[39;00m \u001b[39msave\u001b[39m(\u001b[39mself\u001b[39m, path_or_stream):\n\u001b[0;32m    131\u001b[0m \u001b[39m    \u001b[39m\u001b[39m\"\"\"\u001b[39;00m\n\u001b[0;32m    132\u001b[0m \u001b[39m    Save this document to *path_or_stream*, which can be either a path to\u001b[39;00m\n\u001b[0;32m    133\u001b[0m \u001b[39m    a filesystem location (a string) or a file-like object.\u001b[39;00m\n\u001b[0;32m    134\u001b[0m \u001b[39m    \"\"\"\u001b[39;00m\n\u001b[1;32m--> 135\u001b[0m     \u001b[39mself\u001b[39;49m\u001b[39m.\u001b[39;49m_part\u001b[39m.\u001b[39;49msave(path_or_stream)\n",
      "File \u001b[1;32mc:\\Users\\oscar\\anaconda3\\envs\\dash\\Lib\\site-packages\\docx\\parts\\document.py:111\u001b[0m, in \u001b[0;36mDocumentPart.save\u001b[1;34m(self, path_or_stream)\u001b[0m\n\u001b[0;32m    106\u001b[0m \u001b[39mdef\u001b[39;00m \u001b[39msave\u001b[39m(\u001b[39mself\u001b[39m, path_or_stream):\n\u001b[0;32m    107\u001b[0m \u001b[39m    \u001b[39m\u001b[39m\"\"\"\u001b[39;00m\n\u001b[0;32m    108\u001b[0m \u001b[39m    Save this document to *path_or_stream*, which can be either a path to\u001b[39;00m\n\u001b[0;32m    109\u001b[0m \u001b[39m    a filesystem location (a string) or a file-like object.\u001b[39;00m\n\u001b[0;32m    110\u001b[0m \u001b[39m    \"\"\"\u001b[39;00m\n\u001b[1;32m--> 111\u001b[0m     \u001b[39mself\u001b[39;49m\u001b[39m.\u001b[39;49mpackage\u001b[39m.\u001b[39;49msave(path_or_stream)\n",
      "File \u001b[1;32mc:\\Users\\oscar\\anaconda3\\envs\\dash\\Lib\\site-packages\\docx\\opc\\package.py:172\u001b[0m, in \u001b[0;36mOpcPackage.save\u001b[1;34m(self, pkg_file)\u001b[0m\n\u001b[0;32m    170\u001b[0m \u001b[39mfor\u001b[39;00m part \u001b[39min\u001b[39;00m \u001b[39mself\u001b[39m\u001b[39m.\u001b[39mparts:\n\u001b[0;32m    171\u001b[0m     part\u001b[39m.\u001b[39mbefore_marshal()\n\u001b[1;32m--> 172\u001b[0m PackageWriter\u001b[39m.\u001b[39;49mwrite(pkg_file, \u001b[39mself\u001b[39;49m\u001b[39m.\u001b[39;49mrels, \u001b[39mself\u001b[39;49m\u001b[39m.\u001b[39;49mparts)\n",
      "File \u001b[1;32mc:\\Users\\oscar\\anaconda3\\envs\\dash\\Lib\\site-packages\\docx\\opc\\pkgwriter.py:32\u001b[0m, in \u001b[0;36mPackageWriter.write\u001b[1;34m(pkg_file, pkg_rels, parts)\u001b[0m\n\u001b[0;32m     25\u001b[0m \u001b[39m@staticmethod\u001b[39m\n\u001b[0;32m     26\u001b[0m \u001b[39mdef\u001b[39;00m \u001b[39mwrite\u001b[39m(pkg_file, pkg_rels, parts):\n\u001b[0;32m     27\u001b[0m \u001b[39m    \u001b[39m\u001b[39m\"\"\"\u001b[39;00m\n\u001b[0;32m     28\u001b[0m \u001b[39m    Write a physical package (.pptx file) to *pkg_file* containing\u001b[39;00m\n\u001b[0;32m     29\u001b[0m \u001b[39m    *pkg_rels* and *parts* and a content types stream based on the\u001b[39;00m\n\u001b[0;32m     30\u001b[0m \u001b[39m    content types of the parts.\u001b[39;00m\n\u001b[0;32m     31\u001b[0m \u001b[39m    \"\"\"\u001b[39;00m\n\u001b[1;32m---> 32\u001b[0m     phys_writer \u001b[39m=\u001b[39m PhysPkgWriter(pkg_file)\n\u001b[0;32m     33\u001b[0m     PackageWriter\u001b[39m.\u001b[39m_write_content_types_stream(phys_writer, parts)\n\u001b[0;32m     34\u001b[0m     PackageWriter\u001b[39m.\u001b[39m_write_pkg_rels(phys_writer, pkg_rels)\n",
      "File \u001b[1;32mc:\\Users\\oscar\\anaconda3\\envs\\dash\\Lib\\site-packages\\docx\\opc\\phys_pkg.py:141\u001b[0m, in \u001b[0;36m_ZipPkgWriter.__init__\u001b[1;34m(self, pkg_file)\u001b[0m\n\u001b[0;32m    139\u001b[0m \u001b[39mdef\u001b[39;00m \u001b[39m__init__\u001b[39m(\u001b[39mself\u001b[39m, pkg_file):\n\u001b[0;32m    140\u001b[0m     \u001b[39msuper\u001b[39m(_ZipPkgWriter, \u001b[39mself\u001b[39m)\u001b[39m.\u001b[39m\u001b[39m__init__\u001b[39m()\n\u001b[1;32m--> 141\u001b[0m     \u001b[39mself\u001b[39m\u001b[39m.\u001b[39m_zipf \u001b[39m=\u001b[39m ZipFile(pkg_file, \u001b[39m'\u001b[39;49m\u001b[39mw\u001b[39;49m\u001b[39m'\u001b[39;49m, compression\u001b[39m=\u001b[39;49mZIP_DEFLATED)\n",
      "File \u001b[1;32mc:\\Users\\oscar\\anaconda3\\envs\\dash\\Lib\\zipfile.py:1284\u001b[0m, in \u001b[0;36mZipFile.__init__\u001b[1;34m(self, file, mode, compression, allowZip64, compresslevel, strict_timestamps, metadata_encoding)\u001b[0m\n\u001b[0;32m   1282\u001b[0m \u001b[39mwhile\u001b[39;00m \u001b[39mTrue\u001b[39;00m:\n\u001b[0;32m   1283\u001b[0m     \u001b[39mtry\u001b[39;00m:\n\u001b[1;32m-> 1284\u001b[0m         \u001b[39mself\u001b[39m\u001b[39m.\u001b[39mfp \u001b[39m=\u001b[39m io\u001b[39m.\u001b[39mopen(file, filemode)\n\u001b[0;32m   1285\u001b[0m     \u001b[39mexcept\u001b[39;00m \u001b[39mOSError\u001b[39;00m:\n\u001b[0;32m   1286\u001b[0m         \u001b[39mif\u001b[39;00m filemode \u001b[39min\u001b[39;00m modeDict:\n",
      "\u001b[1;31mPermissionError\u001b[0m: [Errno 13] Permission denied: 'generated_doc.docx'"
     ]
    }
   ],
   "source": [
    "doc = DocxTemplate(\"Primeway - Nota de Débito-Modelo.docx\")\n",
    "context = { 'company_name' : \"World company\",\n",
    "            'my_name' : 'Oscar' \n",
    "          }\n",
    "doc.render(context)\n",
    "doc.save(\"generated_doc.docx\")"
   ]
  }
 ],
 "metadata": {
  "kernelspec": {
   "display_name": "dash",
   "language": "python",
   "name": "python3"
  },
  "language_info": {
   "codemirror_mode": {
    "name": "ipython",
    "version": 3
   },
   "file_extension": ".py",
   "mimetype": "text/x-python",
   "name": "python",
   "nbconvert_exporter": "python",
   "pygments_lexer": "ipython3",
   "version": "3.11.4"
  },
  "orig_nbformat": 4
 },
 "nbformat": 4,
 "nbformat_minor": 2
}
